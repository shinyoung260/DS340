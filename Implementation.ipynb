{
  "metadata": {
    "kernelspec": {
      "language": "python",
      "display_name": "Python 3",
      "name": "python3"
    },
    "language_info": {
      "pygments_lexer": "ipython3",
      "nbconvert_exporter": "python",
      "version": "3.6.4",
      "file_extension": ".py",
      "codemirror_mode": {
        "name": "ipython",
        "version": 3
      },
      "name": "python",
      "mimetype": "text/x-python"
    },
    "kaggle": {
      "accelerator": "none",
      "dataSources": [
        {
          "sourceId": 2680,
          "sourceType": "datasetVersion",
          "datasetId": 1498
        },
        {
          "sourceId": 3167400,
          "sourceType": "datasetVersion",
          "datasetId": 1925864
        }
      ],
      "dockerImageVersionId": 30157,
      "isInternetEnabled": true,
      "language": "python",
      "sourceType": "notebook",
      "isGpuEnabled": false
    },
    "colab": {
      "provenance": []
    }
  },
  "nbformat_minor": 0,
  "nbformat": 4,
  "cells": [
    {
      "cell_type": "markdown",
      "source": [
        "# Context for the Data\n",
        "\"COMPAS (Correctional Offender Management Profiling for Alternative Sanctions) is a popular commercial algorithm used by judges and parole officers for scoring criminal defendant’s likelihood of reoffending (recidivism). It has been shown that the algorithm is biased in favor of white defendants, and against black inmates, based on a 2 year follow up study (i.e who actually committed crimes or violent crimes after 2 years). The pattern of mistakes, as measured by precision/sensitivity is notable.\" For the purposes of this implementation, we will not be focusing on the aspects of the data that are attributed with the compas scores or predictions, but using the variables to predict a binary recidivism and compare with the ground truth value for recidivism within the dataset. This will be performed in the Machine Learning Implementation section of the notebook, which includes the implementation of the feature blindness and the comparitive analysis.   "
      ],
      "metadata": {
        "id": "r0rqMDpSeFni"
      }
    },
    {
      "cell_type": "markdown",
      "source": [
        "### What are we going to perform on this notebook?\n",
        "* For this we will make use of a dataset available at https://github.com/propublica/compas-analysis.\n",
        "* We will load the data and perform an exploratory data analysis\n",
        "* The threshold for establishing measures to prevent recidivism is 7 and above.\n",
        "* We will create a machine learning model with various data pre-processing techniques to perform a comparitive analysis\n",
        "\n",
        "\n"
      ],
      "metadata": {
        "id": "vRCuqwGqeFnk"
      }
    },
    {
      "cell_type": "markdown",
      "source": [
        "# Load and Review Data"
      ],
      "metadata": {
        "id": "jxLzfH7FcycK"
      }
    },
    {
      "cell_type": "code",
      "source": [
        "import pandas as pd\n",
        "import numpy as np\n",
        "import seaborn as sns\n",
        "import matplotlib.pyplot as plt\n",
        "%matplotlib inline\n",
        "sns.set_style(\"white\")\n",
        "from IPython.display import set_matplotlib_formats\n",
        "set_matplotlib_formats('retina')\n",
        "\n",
        "import os\n",
        "import warnings\n",
        "warnings.filterwarnings(\"ignore\")"
      ],
      "metadata": {
        "trusted": true,
        "id": "uoF238_seFnl"
      },
      "outputs": [],
      "execution_count": 130
    },
    {
      "cell_type": "markdown",
      "source": [
        "Use parse dates in pd.read_csv to convert them to time format."
      ],
      "metadata": {
        "id": "_VSOniX1eFnm"
      }
    },
    {
      "cell_type": "code",
      "source": [
        "path = \"cox-violent-parsed.csv\"\n",
        "\n",
        "date_cols = [\"compas_screening_date\",\"dob\",\"c_jail_in\",\"c_jail_out\",\"c_offense_date\",\"v_screening_date\",\"screening_date\",\n",
        "\"vr_offense_date\",\"r_jail_out\",\"r_jail_in\",\"r_offense_date\",\"c_arrest_date\"]\n",
        "\n",
        "df = pd.read_csv(path,parse_dates=date_cols)\n",
        "df.head(3)"
      ],
      "metadata": {
        "execution": {
          "iopub.status.busy": "2022-02-10T17:43:55.12394Z",
          "iopub.execute_input": "2022-02-10T17:43:55.124466Z",
          "iopub.status.idle": "2022-02-10T17:43:55.378367Z",
          "shell.execute_reply.started": "2022-02-10T17:43:55.12443Z",
          "shell.execute_reply": "2022-02-10T17:43:55.377719Z"
        },
        "trusted": true,
        "colab": {
          "base_uri": "https://localhost:8080/",
          "height": 245
        },
        "id": "am4mqt50eFnn",
        "outputId": "566e1887-5704-420a-cbcf-9fb137b0ceca"
      },
      "outputs": [
        {
          "output_type": "execute_result",
          "data": {
            "text/plain": [
              "    id              name    first       last compas_screening_date   sex  \\\n",
              "0  1.0  miguel hernandez   miguel  hernandez            2013-08-14  Male   \n",
              "1  2.0  miguel hernandez   miguel  hernandez            2013-08-14  Male   \n",
              "2  3.0      michael ryan  michael       ryan            2014-12-31  Male   \n",
              "\n",
              "         dob  age          age_cat       race  ...  v_type_of_assessment  \\\n",
              "0 1947-04-18   69  Greater than 45      Other  ...      Risk of Violence   \n",
              "1 1947-04-18   69  Greater than 45      Other  ...      Risk of Violence   \n",
              "2 1985-02-06   31          25 - 45  Caucasian  ...      Risk of Violence   \n",
              "\n",
              "   v_decile_score  v_score_text  v_screening_date  in_custody  out_custody  \\\n",
              "0               1           Low        2013-08-14  07/07/2014   14/07/2014   \n",
              "1               1           Low        2013-08-14  07/07/2014   14/07/2014   \n",
              "2               2           Low        2014-12-31  30/12/2014   03/01/2015   \n",
              "\n",
              "  priors_count.1 start  end event  \n",
              "0              0     0  327     0  \n",
              "1              0   334  961     0  \n",
              "2              0     3  457     0  \n",
              "\n",
              "[3 rows x 52 columns]"
            ],
            "text/html": [
              "\n",
              "  <div id=\"df-70801d23-15c1-47a6-8a48-cef3055c7dc3\" class=\"colab-df-container\">\n",
              "    <div>\n",
              "<style scoped>\n",
              "    .dataframe tbody tr th:only-of-type {\n",
              "        vertical-align: middle;\n",
              "    }\n",
              "\n",
              "    .dataframe tbody tr th {\n",
              "        vertical-align: top;\n",
              "    }\n",
              "\n",
              "    .dataframe thead th {\n",
              "        text-align: right;\n",
              "    }\n",
              "</style>\n",
              "<table border=\"1\" class=\"dataframe\">\n",
              "  <thead>\n",
              "    <tr style=\"text-align: right;\">\n",
              "      <th></th>\n",
              "      <th>id</th>\n",
              "      <th>name</th>\n",
              "      <th>first</th>\n",
              "      <th>last</th>\n",
              "      <th>compas_screening_date</th>\n",
              "      <th>sex</th>\n",
              "      <th>dob</th>\n",
              "      <th>age</th>\n",
              "      <th>age_cat</th>\n",
              "      <th>race</th>\n",
              "      <th>...</th>\n",
              "      <th>v_type_of_assessment</th>\n",
              "      <th>v_decile_score</th>\n",
              "      <th>v_score_text</th>\n",
              "      <th>v_screening_date</th>\n",
              "      <th>in_custody</th>\n",
              "      <th>out_custody</th>\n",
              "      <th>priors_count.1</th>\n",
              "      <th>start</th>\n",
              "      <th>end</th>\n",
              "      <th>event</th>\n",
              "    </tr>\n",
              "  </thead>\n",
              "  <tbody>\n",
              "    <tr>\n",
              "      <th>0</th>\n",
              "      <td>1.0</td>\n",
              "      <td>miguel hernandez</td>\n",
              "      <td>miguel</td>\n",
              "      <td>hernandez</td>\n",
              "      <td>2013-08-14</td>\n",
              "      <td>Male</td>\n",
              "      <td>1947-04-18</td>\n",
              "      <td>69</td>\n",
              "      <td>Greater than 45</td>\n",
              "      <td>Other</td>\n",
              "      <td>...</td>\n",
              "      <td>Risk of Violence</td>\n",
              "      <td>1</td>\n",
              "      <td>Low</td>\n",
              "      <td>2013-08-14</td>\n",
              "      <td>07/07/2014</td>\n",
              "      <td>14/07/2014</td>\n",
              "      <td>0</td>\n",
              "      <td>0</td>\n",
              "      <td>327</td>\n",
              "      <td>0</td>\n",
              "    </tr>\n",
              "    <tr>\n",
              "      <th>1</th>\n",
              "      <td>2.0</td>\n",
              "      <td>miguel hernandez</td>\n",
              "      <td>miguel</td>\n",
              "      <td>hernandez</td>\n",
              "      <td>2013-08-14</td>\n",
              "      <td>Male</td>\n",
              "      <td>1947-04-18</td>\n",
              "      <td>69</td>\n",
              "      <td>Greater than 45</td>\n",
              "      <td>Other</td>\n",
              "      <td>...</td>\n",
              "      <td>Risk of Violence</td>\n",
              "      <td>1</td>\n",
              "      <td>Low</td>\n",
              "      <td>2013-08-14</td>\n",
              "      <td>07/07/2014</td>\n",
              "      <td>14/07/2014</td>\n",
              "      <td>0</td>\n",
              "      <td>334</td>\n",
              "      <td>961</td>\n",
              "      <td>0</td>\n",
              "    </tr>\n",
              "    <tr>\n",
              "      <th>2</th>\n",
              "      <td>3.0</td>\n",
              "      <td>michael ryan</td>\n",
              "      <td>michael</td>\n",
              "      <td>ryan</td>\n",
              "      <td>2014-12-31</td>\n",
              "      <td>Male</td>\n",
              "      <td>1985-02-06</td>\n",
              "      <td>31</td>\n",
              "      <td>25 - 45</td>\n",
              "      <td>Caucasian</td>\n",
              "      <td>...</td>\n",
              "      <td>Risk of Violence</td>\n",
              "      <td>2</td>\n",
              "      <td>Low</td>\n",
              "      <td>2014-12-31</td>\n",
              "      <td>30/12/2014</td>\n",
              "      <td>03/01/2015</td>\n",
              "      <td>0</td>\n",
              "      <td>3</td>\n",
              "      <td>457</td>\n",
              "      <td>0</td>\n",
              "    </tr>\n",
              "  </tbody>\n",
              "</table>\n",
              "<p>3 rows × 52 columns</p>\n",
              "</div>\n",
              "    <div class=\"colab-df-buttons\">\n",
              "\n",
              "  <div class=\"colab-df-container\">\n",
              "    <button class=\"colab-df-convert\" onclick=\"convertToInteractive('df-70801d23-15c1-47a6-8a48-cef3055c7dc3')\"\n",
              "            title=\"Convert this dataframe to an interactive table.\"\n",
              "            style=\"display:none;\">\n",
              "\n",
              "  <svg xmlns=\"http://www.w3.org/2000/svg\" height=\"24px\" viewBox=\"0 -960 960 960\">\n",
              "    <path d=\"M120-120v-720h720v720H120Zm60-500h600v-160H180v160Zm220 220h160v-160H400v160Zm0 220h160v-160H400v160ZM180-400h160v-160H180v160Zm440 0h160v-160H620v160ZM180-180h160v-160H180v160Zm440 0h160v-160H620v160Z\"/>\n",
              "  </svg>\n",
              "    </button>\n",
              "\n",
              "  <style>\n",
              "    .colab-df-container {\n",
              "      display:flex;\n",
              "      gap: 12px;\n",
              "    }\n",
              "\n",
              "    .colab-df-convert {\n",
              "      background-color: #E8F0FE;\n",
              "      border: none;\n",
              "      border-radius: 50%;\n",
              "      cursor: pointer;\n",
              "      display: none;\n",
              "      fill: #1967D2;\n",
              "      height: 32px;\n",
              "      padding: 0 0 0 0;\n",
              "      width: 32px;\n",
              "    }\n",
              "\n",
              "    .colab-df-convert:hover {\n",
              "      background-color: #E2EBFA;\n",
              "      box-shadow: 0px 1px 2px rgba(60, 64, 67, 0.3), 0px 1px 3px 1px rgba(60, 64, 67, 0.15);\n",
              "      fill: #174EA6;\n",
              "    }\n",
              "\n",
              "    .colab-df-buttons div {\n",
              "      margin-bottom: 4px;\n",
              "    }\n",
              "\n",
              "    [theme=dark] .colab-df-convert {\n",
              "      background-color: #3B4455;\n",
              "      fill: #D2E3FC;\n",
              "    }\n",
              "\n",
              "    [theme=dark] .colab-df-convert:hover {\n",
              "      background-color: #434B5C;\n",
              "      box-shadow: 0px 1px 3px 1px rgba(0, 0, 0, 0.15);\n",
              "      filter: drop-shadow(0px 1px 2px rgba(0, 0, 0, 0.3));\n",
              "      fill: #FFFFFF;\n",
              "    }\n",
              "  </style>\n",
              "\n",
              "    <script>\n",
              "      const buttonEl =\n",
              "        document.querySelector('#df-70801d23-15c1-47a6-8a48-cef3055c7dc3 button.colab-df-convert');\n",
              "      buttonEl.style.display =\n",
              "        google.colab.kernel.accessAllowed ? 'block' : 'none';\n",
              "\n",
              "      async function convertToInteractive(key) {\n",
              "        const element = document.querySelector('#df-70801d23-15c1-47a6-8a48-cef3055c7dc3');\n",
              "        const dataTable =\n",
              "          await google.colab.kernel.invokeFunction('convertToInteractive',\n",
              "                                                    [key], {});\n",
              "        if (!dataTable) return;\n",
              "\n",
              "        const docLinkHtml = 'Like what you see? Visit the ' +\n",
              "          '<a target=\"_blank\" href=https://colab.research.google.com/notebooks/data_table.ipynb>data table notebook</a>'\n",
              "          + ' to learn more about interactive tables.';\n",
              "        element.innerHTML = '';\n",
              "        dataTable['output_type'] = 'display_data';\n",
              "        await google.colab.output.renderOutput(dataTable, element);\n",
              "        const docLink = document.createElement('div');\n",
              "        docLink.innerHTML = docLinkHtml;\n",
              "        element.appendChild(docLink);\n",
              "      }\n",
              "    </script>\n",
              "  </div>\n",
              "\n",
              "\n",
              "<div id=\"df-7b003a9f-4625-4bce-8972-fc5080b196b2\">\n",
              "  <button class=\"colab-df-quickchart\" onclick=\"quickchart('df-7b003a9f-4625-4bce-8972-fc5080b196b2')\"\n",
              "            title=\"Suggest charts\"\n",
              "            style=\"display:none;\">\n",
              "\n",
              "<svg xmlns=\"http://www.w3.org/2000/svg\" height=\"24px\"viewBox=\"0 0 24 24\"\n",
              "     width=\"24px\">\n",
              "    <g>\n",
              "        <path d=\"M19 3H5c-1.1 0-2 .9-2 2v14c0 1.1.9 2 2 2h14c1.1 0 2-.9 2-2V5c0-1.1-.9-2-2-2zM9 17H7v-7h2v7zm4 0h-2V7h2v10zm4 0h-2v-4h2v4z\"/>\n",
              "    </g>\n",
              "</svg>\n",
              "  </button>\n",
              "\n",
              "<style>\n",
              "  .colab-df-quickchart {\n",
              "      --bg-color: #E8F0FE;\n",
              "      --fill-color: #1967D2;\n",
              "      --hover-bg-color: #E2EBFA;\n",
              "      --hover-fill-color: #174EA6;\n",
              "      --disabled-fill-color: #AAA;\n",
              "      --disabled-bg-color: #DDD;\n",
              "  }\n",
              "\n",
              "  [theme=dark] .colab-df-quickchart {\n",
              "      --bg-color: #3B4455;\n",
              "      --fill-color: #D2E3FC;\n",
              "      --hover-bg-color: #434B5C;\n",
              "      --hover-fill-color: #FFFFFF;\n",
              "      --disabled-bg-color: #3B4455;\n",
              "      --disabled-fill-color: #666;\n",
              "  }\n",
              "\n",
              "  .colab-df-quickchart {\n",
              "    background-color: var(--bg-color);\n",
              "    border: none;\n",
              "    border-radius: 50%;\n",
              "    cursor: pointer;\n",
              "    display: none;\n",
              "    fill: var(--fill-color);\n",
              "    height: 32px;\n",
              "    padding: 0;\n",
              "    width: 32px;\n",
              "  }\n",
              "\n",
              "  .colab-df-quickchart:hover {\n",
              "    background-color: var(--hover-bg-color);\n",
              "    box-shadow: 0 1px 2px rgba(60, 64, 67, 0.3), 0 1px 3px 1px rgba(60, 64, 67, 0.15);\n",
              "    fill: var(--button-hover-fill-color);\n",
              "  }\n",
              "\n",
              "  .colab-df-quickchart-complete:disabled,\n",
              "  .colab-df-quickchart-complete:disabled:hover {\n",
              "    background-color: var(--disabled-bg-color);\n",
              "    fill: var(--disabled-fill-color);\n",
              "    box-shadow: none;\n",
              "  }\n",
              "\n",
              "  .colab-df-spinner {\n",
              "    border: 2px solid var(--fill-color);\n",
              "    border-color: transparent;\n",
              "    border-bottom-color: var(--fill-color);\n",
              "    animation:\n",
              "      spin 1s steps(1) infinite;\n",
              "  }\n",
              "\n",
              "  @keyframes spin {\n",
              "    0% {\n",
              "      border-color: transparent;\n",
              "      border-bottom-color: var(--fill-color);\n",
              "      border-left-color: var(--fill-color);\n",
              "    }\n",
              "    20% {\n",
              "      border-color: transparent;\n",
              "      border-left-color: var(--fill-color);\n",
              "      border-top-color: var(--fill-color);\n",
              "    }\n",
              "    30% {\n",
              "      border-color: transparent;\n",
              "      border-left-color: var(--fill-color);\n",
              "      border-top-color: var(--fill-color);\n",
              "      border-right-color: var(--fill-color);\n",
              "    }\n",
              "    40% {\n",
              "      border-color: transparent;\n",
              "      border-right-color: var(--fill-color);\n",
              "      border-top-color: var(--fill-color);\n",
              "    }\n",
              "    60% {\n",
              "      border-color: transparent;\n",
              "      border-right-color: var(--fill-color);\n",
              "    }\n",
              "    80% {\n",
              "      border-color: transparent;\n",
              "      border-right-color: var(--fill-color);\n",
              "      border-bottom-color: var(--fill-color);\n",
              "    }\n",
              "    90% {\n",
              "      border-color: transparent;\n",
              "      border-bottom-color: var(--fill-color);\n",
              "    }\n",
              "  }\n",
              "</style>\n",
              "\n",
              "  <script>\n",
              "    async function quickchart(key) {\n",
              "      const quickchartButtonEl =\n",
              "        document.querySelector('#' + key + ' button');\n",
              "      quickchartButtonEl.disabled = true;  // To prevent multiple clicks.\n",
              "      quickchartButtonEl.classList.add('colab-df-spinner');\n",
              "      try {\n",
              "        const charts = await google.colab.kernel.invokeFunction(\n",
              "            'suggestCharts', [key], {});\n",
              "      } catch (error) {\n",
              "        console.error('Error during call to suggestCharts:', error);\n",
              "      }\n",
              "      quickchartButtonEl.classList.remove('colab-df-spinner');\n",
              "      quickchartButtonEl.classList.add('colab-df-quickchart-complete');\n",
              "    }\n",
              "    (() => {\n",
              "      let quickchartButtonEl =\n",
              "        document.querySelector('#df-7b003a9f-4625-4bce-8972-fc5080b196b2 button');\n",
              "      quickchartButtonEl.style.display =\n",
              "        google.colab.kernel.accessAllowed ? 'block' : 'none';\n",
              "    })();\n",
              "  </script>\n",
              "</div>\n",
              "\n",
              "    </div>\n",
              "  </div>\n"
            ],
            "application/vnd.google.colaboratory.intrinsic+json": {
              "type": "dataframe",
              "variable_name": "df"
            }
          },
          "metadata": {},
          "execution_count": 131
        }
      ],
      "execution_count": 131
    },
    {
      "cell_type": "code",
      "source": [
        "# we see an overview where we see the type of data in each column, if there is Nan, the memory usage, etc.\n",
        "df.info()"
      ],
      "metadata": {
        "execution": {
          "iopub.status.busy": "2022-02-10T17:43:55.379587Z",
          "iopub.execute_input": "2022-02-10T17:43:55.37997Z",
          "iopub.status.idle": "2022-02-10T17:43:55.4182Z",
          "shell.execute_reply.started": "2022-02-10T17:43:55.379921Z",
          "shell.execute_reply": "2022-02-10T17:43:55.41752Z"
        },
        "trusted": true,
        "colab": {
          "base_uri": "https://localhost:8080/"
        },
        "id": "lL9XOyzreFno",
        "outputId": "2277ae60-d953-4f8c-d537-4e60cd532fc9"
      },
      "outputs": [
        {
          "output_type": "stream",
          "name": "stdout",
          "text": [
            "<class 'pandas.core.frame.DataFrame'>\n",
            "RangeIndex: 18316 entries, 0 to 18315\n",
            "Data columns (total 52 columns):\n",
            " #   Column                   Non-Null Count  Dtype         \n",
            "---  ------                   --------------  -----         \n",
            " 0   id                       11001 non-null  float64       \n",
            " 1   name                     18316 non-null  object        \n",
            " 2   first                    18316 non-null  object        \n",
            " 3   last                     18316 non-null  object        \n",
            " 4   compas_screening_date    18316 non-null  datetime64[ns]\n",
            " 5   sex                      18316 non-null  object        \n",
            " 6   dob                      18316 non-null  datetime64[ns]\n",
            " 7   age                      18316 non-null  int64         \n",
            " 8   age_cat                  18316 non-null  object        \n",
            " 9   race                     18316 non-null  object        \n",
            " 10  juv_fel_count            18316 non-null  int64         \n",
            " 11  decile_score             18316 non-null  int64         \n",
            " 12  juv_misd_count           18316 non-null  int64         \n",
            " 13  juv_other_count          18316 non-null  int64         \n",
            " 14  priors_count             18316 non-null  int64         \n",
            " 15  days_b_screening_arrest  17019 non-null  float64       \n",
            " 16  c_jail_in                17019 non-null  datetime64[ns]\n",
            " 17  c_jail_out               17019 non-null  datetime64[ns]\n",
            " 18  c_case_number            17449 non-null  object        \n",
            " 19  c_offense_date           14364 non-null  datetime64[ns]\n",
            " 20  c_arrest_date            3085 non-null   object        \n",
            " 21  c_days_from_compas       17449 non-null  float64       \n",
            " 22  c_charge_degree          17449 non-null  object        \n",
            " 23  c_charge_desc            17435 non-null  object        \n",
            " 24  is_recid                 18316 non-null  int64         \n",
            " 25  r_case_number            8417 non-null   object        \n",
            " 26  r_charge_degree          8417 non-null   object        \n",
            " 27  r_days_from_arrest       6359 non-null   float64       \n",
            " 28  r_offense_date           8417 non-null   object        \n",
            " 29  r_charge_desc            8277 non-null   object        \n",
            " 30  r_jail_in                6359 non-null   datetime64[ns]\n",
            " 31  r_jail_out               6359 non-null   datetime64[ns]\n",
            " 32  violent_recid            0 non-null      float64       \n",
            " 33  is_violent_recid         18316 non-null  int64         \n",
            " 34  vr_case_number           1339 non-null   object        \n",
            " 35  vr_charge_degree         1339 non-null   object        \n",
            " 36  vr_offense_date          1339 non-null   object        \n",
            " 37  vr_charge_desc           1339 non-null   object        \n",
            " 38  type_of_assessment       18316 non-null  object        \n",
            " 39  decile_score.1           18316 non-null  int64         \n",
            " 40  score_text               18293 non-null  object        \n",
            " 41  screening_date           18316 non-null  datetime64[ns]\n",
            " 42  v_type_of_assessment     18316 non-null  object        \n",
            " 43  v_decile_score           18316 non-null  int64         \n",
            " 44  v_score_text             18310 non-null  object        \n",
            " 45  v_screening_date         18316 non-null  datetime64[ns]\n",
            " 46  in_custody               17722 non-null  object        \n",
            " 47  out_custody              17722 non-null  object        \n",
            " 48  priors_count.1           18316 non-null  int64         \n",
            " 49  start                    18316 non-null  int64         \n",
            " 50  end                      18316 non-null  int64         \n",
            " 51  event                    18316 non-null  int64         \n",
            "dtypes: datetime64[ns](9), float64(5), int64(14), object(24)\n",
            "memory usage: 7.3+ MB\n"
          ]
        }
      ],
      "execution_count": 132
    },
    {
      "cell_type": "code",
      "source": [
        "# we see that there are a lot of null values, so we will have to make some adjustments later on.\n",
        "# remember that the prefix r_ stands for recidivist, and vr_ violent recidivist.\n",
        "nulos = df.isnull().mean()\n",
        "nulos[nulos >0]"
      ],
      "metadata": {
        "execution": {
          "iopub.status.busy": "2022-02-10T17:43:55.419806Z",
          "iopub.execute_input": "2022-02-10T17:43:55.42021Z",
          "iopub.status.idle": "2022-02-10T17:43:55.452197Z",
          "shell.execute_reply.started": "2022-02-10T17:43:55.420175Z",
          "shell.execute_reply": "2022-02-10T17:43:55.451491Z"
        },
        "trusted": true,
        "colab": {
          "base_uri": "https://localhost:8080/",
          "height": 900
        },
        "id": "-M8BbZ8BeFno",
        "outputId": "7da35ab1-e2b9-4329-b4b9-f12258a8d75e"
      },
      "outputs": [
        {
          "output_type": "execute_result",
          "data": {
            "text/plain": [
              "id                         0.399378\n",
              "days_b_screening_arrest    0.070812\n",
              "c_jail_in                  0.070812\n",
              "c_jail_out                 0.070812\n",
              "c_case_number              0.047336\n",
              "c_offense_date             0.215768\n",
              "c_arrest_date              0.831568\n",
              "c_days_from_compas         0.047336\n",
              "c_charge_degree            0.047336\n",
              "c_charge_desc              0.048100\n",
              "r_case_number              0.540456\n",
              "r_charge_degree            0.540456\n",
              "r_days_from_arrest         0.652817\n",
              "r_offense_date             0.540456\n",
              "r_charge_desc              0.548100\n",
              "r_jail_in                  0.652817\n",
              "r_jail_out                 0.652817\n",
              "violent_recid              1.000000\n",
              "vr_case_number             0.926895\n",
              "vr_charge_degree           0.926895\n",
              "vr_offense_date            0.926895\n",
              "vr_charge_desc             0.926895\n",
              "score_text                 0.001256\n",
              "v_score_text               0.000328\n",
              "in_custody                 0.032431\n",
              "out_custody                0.032431\n",
              "dtype: float64"
            ],
            "text/html": [
              "<div>\n",
              "<style scoped>\n",
              "    .dataframe tbody tr th:only-of-type {\n",
              "        vertical-align: middle;\n",
              "    }\n",
              "\n",
              "    .dataframe tbody tr th {\n",
              "        vertical-align: top;\n",
              "    }\n",
              "\n",
              "    .dataframe thead th {\n",
              "        text-align: right;\n",
              "    }\n",
              "</style>\n",
              "<table border=\"1\" class=\"dataframe\">\n",
              "  <thead>\n",
              "    <tr style=\"text-align: right;\">\n",
              "      <th></th>\n",
              "      <th>0</th>\n",
              "    </tr>\n",
              "  </thead>\n",
              "  <tbody>\n",
              "    <tr>\n",
              "      <th>id</th>\n",
              "      <td>0.399378</td>\n",
              "    </tr>\n",
              "    <tr>\n",
              "      <th>days_b_screening_arrest</th>\n",
              "      <td>0.070812</td>\n",
              "    </tr>\n",
              "    <tr>\n",
              "      <th>c_jail_in</th>\n",
              "      <td>0.070812</td>\n",
              "    </tr>\n",
              "    <tr>\n",
              "      <th>c_jail_out</th>\n",
              "      <td>0.070812</td>\n",
              "    </tr>\n",
              "    <tr>\n",
              "      <th>c_case_number</th>\n",
              "      <td>0.047336</td>\n",
              "    </tr>\n",
              "    <tr>\n",
              "      <th>c_offense_date</th>\n",
              "      <td>0.215768</td>\n",
              "    </tr>\n",
              "    <tr>\n",
              "      <th>c_arrest_date</th>\n",
              "      <td>0.831568</td>\n",
              "    </tr>\n",
              "    <tr>\n",
              "      <th>c_days_from_compas</th>\n",
              "      <td>0.047336</td>\n",
              "    </tr>\n",
              "    <tr>\n",
              "      <th>c_charge_degree</th>\n",
              "      <td>0.047336</td>\n",
              "    </tr>\n",
              "    <tr>\n",
              "      <th>c_charge_desc</th>\n",
              "      <td>0.048100</td>\n",
              "    </tr>\n",
              "    <tr>\n",
              "      <th>r_case_number</th>\n",
              "      <td>0.540456</td>\n",
              "    </tr>\n",
              "    <tr>\n",
              "      <th>r_charge_degree</th>\n",
              "      <td>0.540456</td>\n",
              "    </tr>\n",
              "    <tr>\n",
              "      <th>r_days_from_arrest</th>\n",
              "      <td>0.652817</td>\n",
              "    </tr>\n",
              "    <tr>\n",
              "      <th>r_offense_date</th>\n",
              "      <td>0.540456</td>\n",
              "    </tr>\n",
              "    <tr>\n",
              "      <th>r_charge_desc</th>\n",
              "      <td>0.548100</td>\n",
              "    </tr>\n",
              "    <tr>\n",
              "      <th>r_jail_in</th>\n",
              "      <td>0.652817</td>\n",
              "    </tr>\n",
              "    <tr>\n",
              "      <th>r_jail_out</th>\n",
              "      <td>0.652817</td>\n",
              "    </tr>\n",
              "    <tr>\n",
              "      <th>violent_recid</th>\n",
              "      <td>1.000000</td>\n",
              "    </tr>\n",
              "    <tr>\n",
              "      <th>vr_case_number</th>\n",
              "      <td>0.926895</td>\n",
              "    </tr>\n",
              "    <tr>\n",
              "      <th>vr_charge_degree</th>\n",
              "      <td>0.926895</td>\n",
              "    </tr>\n",
              "    <tr>\n",
              "      <th>vr_offense_date</th>\n",
              "      <td>0.926895</td>\n",
              "    </tr>\n",
              "    <tr>\n",
              "      <th>vr_charge_desc</th>\n",
              "      <td>0.926895</td>\n",
              "    </tr>\n",
              "    <tr>\n",
              "      <th>score_text</th>\n",
              "      <td>0.001256</td>\n",
              "    </tr>\n",
              "    <tr>\n",
              "      <th>v_score_text</th>\n",
              "      <td>0.000328</td>\n",
              "    </tr>\n",
              "    <tr>\n",
              "      <th>in_custody</th>\n",
              "      <td>0.032431</td>\n",
              "    </tr>\n",
              "    <tr>\n",
              "      <th>out_custody</th>\n",
              "      <td>0.032431</td>\n",
              "    </tr>\n",
              "  </tbody>\n",
              "</table>\n",
              "</div><br><label><b>dtype:</b> float64</label>"
            ]
          },
          "metadata": {},
          "execution_count": 133
        }
      ],
      "execution_count": 133
    },
    {
      "cell_type": "markdown",
      "source": [
        "In principle there are no duplicates, but just in case, let's check the names, age, sex, date of birth and breed. Remove duplicate individuals from the data."
      ],
      "metadata": {
        "id": "GL_dpMuxeFnp"
      }
    },
    {
      "cell_type": "code",
      "source": [
        "df.duplicated().sum()"
      ],
      "metadata": {
        "execution": {
          "iopub.status.busy": "2022-02-10T17:43:55.453541Z",
          "iopub.execute_input": "2022-02-10T17:43:55.453949Z",
          "iopub.status.idle": "2022-02-10T17:43:55.501397Z",
          "shell.execute_reply.started": "2022-02-10T17:43:55.453919Z",
          "shell.execute_reply": "2022-02-10T17:43:55.500697Z"
        },
        "trusted": true,
        "colab": {
          "base_uri": "https://localhost:8080/"
        },
        "id": "qhEDJd20eFnp",
        "outputId": "6ed00e23-261c-4b3d-e6ac-de30e203d95d"
      },
      "outputs": [
        {
          "output_type": "execute_result",
          "data": {
            "text/plain": [
              "0"
            ]
          },
          "metadata": {},
          "execution_count": 134
        }
      ],
      "execution_count": 134
    },
    {
      "cell_type": "code",
      "source": [
        " df[df.duplicated([\"name\",\"age\",\"sex\",\"race\",\"dob\"],keep=False)]"
      ],
      "metadata": {
        "execution": {
          "iopub.status.busy": "2022-02-10T17:43:55.502353Z",
          "iopub.execute_input": "2022-02-10T17:43:55.503076Z",
          "iopub.status.idle": "2022-02-10T17:43:55.540128Z",
          "shell.execute_reply.started": "2022-02-10T17:43:55.503043Z",
          "shell.execute_reply": "2022-02-10T17:43:55.539422Z"
        },
        "trusted": true,
        "colab": {
          "base_uri": "https://localhost:8080/",
          "height": 618
        },
        "id": "bZ5e9bSaeFnq",
        "outputId": "2967ae32-e5ce-4346-b673-1b330ad225a5"
      },
      "outputs": [
        {
          "output_type": "execute_result",
          "data": {
            "text/plain": [
              "        id                 name      first       last compas_screening_date  \\\n",
              "0      1.0     miguel hernandez     miguel  hernandez            2013-08-14   \n",
              "1      2.0     miguel hernandez     miguel  hernandez            2013-08-14   \n",
              "4      5.0             ed philo         ed      philo            2013-04-14   \n",
              "5      6.0             ed philo         ed      philo            2013-04-14   \n",
              "6      7.0             ed philo         ed      philo            2013-04-14   \n",
              "...    ...                  ...        ...        ...                   ...   \n",
              "18306  NaN         raheem smith     raheem      smith            2013-10-20   \n",
              "18307  NaN         raheem smith     raheem      smith            2013-10-20   \n",
              "18308  NaN         raheem smith     raheem      smith            2013-10-20   \n",
              "18314  NaN  florencia sanmartin  florencia  sanmartin            2014-06-30   \n",
              "18315  NaN  florencia sanmartin  florencia  sanmartin            2014-06-30   \n",
              "\n",
              "          sex        dob  age          age_cat              race  ...  \\\n",
              "0        Male 1947-04-18   69  Greater than 45             Other  ...   \n",
              "1        Male 1947-04-18   69  Greater than 45             Other  ...   \n",
              "4        Male 1991-05-14   24     Less than 25  African-American  ...   \n",
              "5        Male 1991-05-14   24     Less than 25  African-American  ...   \n",
              "6        Male 1991-05-14   24     Less than 25  African-American  ...   \n",
              "...       ...        ...  ...              ...               ...  ...   \n",
              "18306    Male 1995-06-28   20     Less than 25  African-American  ...   \n",
              "18307    Male 1995-06-28   20     Less than 25  African-American  ...   \n",
              "18308    Male 1995-06-28   20     Less than 25  African-American  ...   \n",
              "18314  Female 1992-12-18   23     Less than 25          Hispanic  ...   \n",
              "18315  Female 1992-12-18   23     Less than 25          Hispanic  ...   \n",
              "\n",
              "       v_type_of_assessment  v_decile_score  v_score_text  v_screening_date  \\\n",
              "0          Risk of Violence               1           Low        2013-08-14   \n",
              "1          Risk of Violence               1           Low        2013-08-14   \n",
              "4          Risk of Violence               3           Low        2013-04-14   \n",
              "5          Risk of Violence               3           Low        2013-04-14   \n",
              "6          Risk of Violence               3           Low        2013-04-14   \n",
              "...                     ...             ...           ...               ...   \n",
              "18306      Risk of Violence               9          High        2013-10-20   \n",
              "18307      Risk of Violence               9          High        2013-10-20   \n",
              "18308      Risk of Violence               9          High        2013-10-20   \n",
              "18314      Risk of Violence               4           Low        2014-06-30   \n",
              "18315      Risk of Violence               4           Low        2014-06-30   \n",
              "\n",
              "       in_custody  out_custody priors_count.1 start  end event  \n",
              "0      07/07/2014   14/07/2014              0     0  327     0  \n",
              "1      07/07/2014   14/07/2014              0   334  961     0  \n",
              "4      16/06/2013   16/06/2013              4     0   63     0  \n",
              "5      30/07/2013   08/11/2013              4    63  107     0  \n",
              "6      27/03/2014   02/05/2014              4   208  347     0  \n",
              "...           ...          ...            ...   ...  ...   ...  \n",
              "18306  07/04/2014   27/04/2014              0     0  169     0  \n",
              "18307  04/03/2015   11/03/2015              0   189  500     0  \n",
              "18308  04/03/2015   11/03/2015              0   507  894     0  \n",
              "18314  15/03/2015   15/03/2015              2     0  258     0  \n",
              "18315  15/03/2015   15/03/2015              2   258  641     0  \n",
              "\n",
              "[11423 rows x 52 columns]"
            ],
            "text/html": [
              "\n",
              "  <div id=\"df-fba3c3b7-e274-4dca-b2e4-a90c12d79748\" class=\"colab-df-container\">\n",
              "    <div>\n",
              "<style scoped>\n",
              "    .dataframe tbody tr th:only-of-type {\n",
              "        vertical-align: middle;\n",
              "    }\n",
              "\n",
              "    .dataframe tbody tr th {\n",
              "        vertical-align: top;\n",
              "    }\n",
              "\n",
              "    .dataframe thead th {\n",
              "        text-align: right;\n",
              "    }\n",
              "</style>\n",
              "<table border=\"1\" class=\"dataframe\">\n",
              "  <thead>\n",
              "    <tr style=\"text-align: right;\">\n",
              "      <th></th>\n",
              "      <th>id</th>\n",
              "      <th>name</th>\n",
              "      <th>first</th>\n",
              "      <th>last</th>\n",
              "      <th>compas_screening_date</th>\n",
              "      <th>sex</th>\n",
              "      <th>dob</th>\n",
              "      <th>age</th>\n",
              "      <th>age_cat</th>\n",
              "      <th>race</th>\n",
              "      <th>...</th>\n",
              "      <th>v_type_of_assessment</th>\n",
              "      <th>v_decile_score</th>\n",
              "      <th>v_score_text</th>\n",
              "      <th>v_screening_date</th>\n",
              "      <th>in_custody</th>\n",
              "      <th>out_custody</th>\n",
              "      <th>priors_count.1</th>\n",
              "      <th>start</th>\n",
              "      <th>end</th>\n",
              "      <th>event</th>\n",
              "    </tr>\n",
              "  </thead>\n",
              "  <tbody>\n",
              "    <tr>\n",
              "      <th>0</th>\n",
              "      <td>1.0</td>\n",
              "      <td>miguel hernandez</td>\n",
              "      <td>miguel</td>\n",
              "      <td>hernandez</td>\n",
              "      <td>2013-08-14</td>\n",
              "      <td>Male</td>\n",
              "      <td>1947-04-18</td>\n",
              "      <td>69</td>\n",
              "      <td>Greater than 45</td>\n",
              "      <td>Other</td>\n",
              "      <td>...</td>\n",
              "      <td>Risk of Violence</td>\n",
              "      <td>1</td>\n",
              "      <td>Low</td>\n",
              "      <td>2013-08-14</td>\n",
              "      <td>07/07/2014</td>\n",
              "      <td>14/07/2014</td>\n",
              "      <td>0</td>\n",
              "      <td>0</td>\n",
              "      <td>327</td>\n",
              "      <td>0</td>\n",
              "    </tr>\n",
              "    <tr>\n",
              "      <th>1</th>\n",
              "      <td>2.0</td>\n",
              "      <td>miguel hernandez</td>\n",
              "      <td>miguel</td>\n",
              "      <td>hernandez</td>\n",
              "      <td>2013-08-14</td>\n",
              "      <td>Male</td>\n",
              "      <td>1947-04-18</td>\n",
              "      <td>69</td>\n",
              "      <td>Greater than 45</td>\n",
              "      <td>Other</td>\n",
              "      <td>...</td>\n",
              "      <td>Risk of Violence</td>\n",
              "      <td>1</td>\n",
              "      <td>Low</td>\n",
              "      <td>2013-08-14</td>\n",
              "      <td>07/07/2014</td>\n",
              "      <td>14/07/2014</td>\n",
              "      <td>0</td>\n",
              "      <td>334</td>\n",
              "      <td>961</td>\n",
              "      <td>0</td>\n",
              "    </tr>\n",
              "    <tr>\n",
              "      <th>4</th>\n",
              "      <td>5.0</td>\n",
              "      <td>ed philo</td>\n",
              "      <td>ed</td>\n",
              "      <td>philo</td>\n",
              "      <td>2013-04-14</td>\n",
              "      <td>Male</td>\n",
              "      <td>1991-05-14</td>\n",
              "      <td>24</td>\n",
              "      <td>Less than 25</td>\n",
              "      <td>African-American</td>\n",
              "      <td>...</td>\n",
              "      <td>Risk of Violence</td>\n",
              "      <td>3</td>\n",
              "      <td>Low</td>\n",
              "      <td>2013-04-14</td>\n",
              "      <td>16/06/2013</td>\n",
              "      <td>16/06/2013</td>\n",
              "      <td>4</td>\n",
              "      <td>0</td>\n",
              "      <td>63</td>\n",
              "      <td>0</td>\n",
              "    </tr>\n",
              "    <tr>\n",
              "      <th>5</th>\n",
              "      <td>6.0</td>\n",
              "      <td>ed philo</td>\n",
              "      <td>ed</td>\n",
              "      <td>philo</td>\n",
              "      <td>2013-04-14</td>\n",
              "      <td>Male</td>\n",
              "      <td>1991-05-14</td>\n",
              "      <td>24</td>\n",
              "      <td>Less than 25</td>\n",
              "      <td>African-American</td>\n",
              "      <td>...</td>\n",
              "      <td>Risk of Violence</td>\n",
              "      <td>3</td>\n",
              "      <td>Low</td>\n",
              "      <td>2013-04-14</td>\n",
              "      <td>30/07/2013</td>\n",
              "      <td>08/11/2013</td>\n",
              "      <td>4</td>\n",
              "      <td>63</td>\n",
              "      <td>107</td>\n",
              "      <td>0</td>\n",
              "    </tr>\n",
              "    <tr>\n",
              "      <th>6</th>\n",
              "      <td>7.0</td>\n",
              "      <td>ed philo</td>\n",
              "      <td>ed</td>\n",
              "      <td>philo</td>\n",
              "      <td>2013-04-14</td>\n",
              "      <td>Male</td>\n",
              "      <td>1991-05-14</td>\n",
              "      <td>24</td>\n",
              "      <td>Less than 25</td>\n",
              "      <td>African-American</td>\n",
              "      <td>...</td>\n",
              "      <td>Risk of Violence</td>\n",
              "      <td>3</td>\n",
              "      <td>Low</td>\n",
              "      <td>2013-04-14</td>\n",
              "      <td>27/03/2014</td>\n",
              "      <td>02/05/2014</td>\n",
              "      <td>4</td>\n",
              "      <td>208</td>\n",
              "      <td>347</td>\n",
              "      <td>0</td>\n",
              "    </tr>\n",
              "    <tr>\n",
              "      <th>...</th>\n",
              "      <td>...</td>\n",
              "      <td>...</td>\n",
              "      <td>...</td>\n",
              "      <td>...</td>\n",
              "      <td>...</td>\n",
              "      <td>...</td>\n",
              "      <td>...</td>\n",
              "      <td>...</td>\n",
              "      <td>...</td>\n",
              "      <td>...</td>\n",
              "      <td>...</td>\n",
              "      <td>...</td>\n",
              "      <td>...</td>\n",
              "      <td>...</td>\n",
              "      <td>...</td>\n",
              "      <td>...</td>\n",
              "      <td>...</td>\n",
              "      <td>...</td>\n",
              "      <td>...</td>\n",
              "      <td>...</td>\n",
              "      <td>...</td>\n",
              "    </tr>\n",
              "    <tr>\n",
              "      <th>18306</th>\n",
              "      <td>NaN</td>\n",
              "      <td>raheem smith</td>\n",
              "      <td>raheem</td>\n",
              "      <td>smith</td>\n",
              "      <td>2013-10-20</td>\n",
              "      <td>Male</td>\n",
              "      <td>1995-06-28</td>\n",
              "      <td>20</td>\n",
              "      <td>Less than 25</td>\n",
              "      <td>African-American</td>\n",
              "      <td>...</td>\n",
              "      <td>Risk of Violence</td>\n",
              "      <td>9</td>\n",
              "      <td>High</td>\n",
              "      <td>2013-10-20</td>\n",
              "      <td>07/04/2014</td>\n",
              "      <td>27/04/2014</td>\n",
              "      <td>0</td>\n",
              "      <td>0</td>\n",
              "      <td>169</td>\n",
              "      <td>0</td>\n",
              "    </tr>\n",
              "    <tr>\n",
              "      <th>18307</th>\n",
              "      <td>NaN</td>\n",
              "      <td>raheem smith</td>\n",
              "      <td>raheem</td>\n",
              "      <td>smith</td>\n",
              "      <td>2013-10-20</td>\n",
              "      <td>Male</td>\n",
              "      <td>1995-06-28</td>\n",
              "      <td>20</td>\n",
              "      <td>Less than 25</td>\n",
              "      <td>African-American</td>\n",
              "      <td>...</td>\n",
              "      <td>Risk of Violence</td>\n",
              "      <td>9</td>\n",
              "      <td>High</td>\n",
              "      <td>2013-10-20</td>\n",
              "      <td>04/03/2015</td>\n",
              "      <td>11/03/2015</td>\n",
              "      <td>0</td>\n",
              "      <td>189</td>\n",
              "      <td>500</td>\n",
              "      <td>0</td>\n",
              "    </tr>\n",
              "    <tr>\n",
              "      <th>18308</th>\n",
              "      <td>NaN</td>\n",
              "      <td>raheem smith</td>\n",
              "      <td>raheem</td>\n",
              "      <td>smith</td>\n",
              "      <td>2013-10-20</td>\n",
              "      <td>Male</td>\n",
              "      <td>1995-06-28</td>\n",
              "      <td>20</td>\n",
              "      <td>Less than 25</td>\n",
              "      <td>African-American</td>\n",
              "      <td>...</td>\n",
              "      <td>Risk of Violence</td>\n",
              "      <td>9</td>\n",
              "      <td>High</td>\n",
              "      <td>2013-10-20</td>\n",
              "      <td>04/03/2015</td>\n",
              "      <td>11/03/2015</td>\n",
              "      <td>0</td>\n",
              "      <td>507</td>\n",
              "      <td>894</td>\n",
              "      <td>0</td>\n",
              "    </tr>\n",
              "    <tr>\n",
              "      <th>18314</th>\n",
              "      <td>NaN</td>\n",
              "      <td>florencia sanmartin</td>\n",
              "      <td>florencia</td>\n",
              "      <td>sanmartin</td>\n",
              "      <td>2014-06-30</td>\n",
              "      <td>Female</td>\n",
              "      <td>1992-12-18</td>\n",
              "      <td>23</td>\n",
              "      <td>Less than 25</td>\n",
              "      <td>Hispanic</td>\n",
              "      <td>...</td>\n",
              "      <td>Risk of Violence</td>\n",
              "      <td>4</td>\n",
              "      <td>Low</td>\n",
              "      <td>2014-06-30</td>\n",
              "      <td>15/03/2015</td>\n",
              "      <td>15/03/2015</td>\n",
              "      <td>2</td>\n",
              "      <td>0</td>\n",
              "      <td>258</td>\n",
              "      <td>0</td>\n",
              "    </tr>\n",
              "    <tr>\n",
              "      <th>18315</th>\n",
              "      <td>NaN</td>\n",
              "      <td>florencia sanmartin</td>\n",
              "      <td>florencia</td>\n",
              "      <td>sanmartin</td>\n",
              "      <td>2014-06-30</td>\n",
              "      <td>Female</td>\n",
              "      <td>1992-12-18</td>\n",
              "      <td>23</td>\n",
              "      <td>Less than 25</td>\n",
              "      <td>Hispanic</td>\n",
              "      <td>...</td>\n",
              "      <td>Risk of Violence</td>\n",
              "      <td>4</td>\n",
              "      <td>Low</td>\n",
              "      <td>2014-06-30</td>\n",
              "      <td>15/03/2015</td>\n",
              "      <td>15/03/2015</td>\n",
              "      <td>2</td>\n",
              "      <td>258</td>\n",
              "      <td>641</td>\n",
              "      <td>0</td>\n",
              "    </tr>\n",
              "  </tbody>\n",
              "</table>\n",
              "<p>11423 rows × 52 columns</p>\n",
              "</div>\n",
              "    <div class=\"colab-df-buttons\">\n",
              "\n",
              "  <div class=\"colab-df-container\">\n",
              "    <button class=\"colab-df-convert\" onclick=\"convertToInteractive('df-fba3c3b7-e274-4dca-b2e4-a90c12d79748')\"\n",
              "            title=\"Convert this dataframe to an interactive table.\"\n",
              "            style=\"display:none;\">\n",
              "\n",
              "  <svg xmlns=\"http://www.w3.org/2000/svg\" height=\"24px\" viewBox=\"0 -960 960 960\">\n",
              "    <path d=\"M120-120v-720h720v720H120Zm60-500h600v-160H180v160Zm220 220h160v-160H400v160Zm0 220h160v-160H400v160ZM180-400h160v-160H180v160Zm440 0h160v-160H620v160ZM180-180h160v-160H180v160Zm440 0h160v-160H620v160Z\"/>\n",
              "  </svg>\n",
              "    </button>\n",
              "\n",
              "  <style>\n",
              "    .colab-df-container {\n",
              "      display:flex;\n",
              "      gap: 12px;\n",
              "    }\n",
              "\n",
              "    .colab-df-convert {\n",
              "      background-color: #E8F0FE;\n",
              "      border: none;\n",
              "      border-radius: 50%;\n",
              "      cursor: pointer;\n",
              "      display: none;\n",
              "      fill: #1967D2;\n",
              "      height: 32px;\n",
              "      padding: 0 0 0 0;\n",
              "      width: 32px;\n",
              "    }\n",
              "\n",
              "    .colab-df-convert:hover {\n",
              "      background-color: #E2EBFA;\n",
              "      box-shadow: 0px 1px 2px rgba(60, 64, 67, 0.3), 0px 1px 3px 1px rgba(60, 64, 67, 0.15);\n",
              "      fill: #174EA6;\n",
              "    }\n",
              "\n",
              "    .colab-df-buttons div {\n",
              "      margin-bottom: 4px;\n",
              "    }\n",
              "\n",
              "    [theme=dark] .colab-df-convert {\n",
              "      background-color: #3B4455;\n",
              "      fill: #D2E3FC;\n",
              "    }\n",
              "\n",
              "    [theme=dark] .colab-df-convert:hover {\n",
              "      background-color: #434B5C;\n",
              "      box-shadow: 0px 1px 3px 1px rgba(0, 0, 0, 0.15);\n",
              "      filter: drop-shadow(0px 1px 2px rgba(0, 0, 0, 0.3));\n",
              "      fill: #FFFFFF;\n",
              "    }\n",
              "  </style>\n",
              "\n",
              "    <script>\n",
              "      const buttonEl =\n",
              "        document.querySelector('#df-fba3c3b7-e274-4dca-b2e4-a90c12d79748 button.colab-df-convert');\n",
              "      buttonEl.style.display =\n",
              "        google.colab.kernel.accessAllowed ? 'block' : 'none';\n",
              "\n",
              "      async function convertToInteractive(key) {\n",
              "        const element = document.querySelector('#df-fba3c3b7-e274-4dca-b2e4-a90c12d79748');\n",
              "        const dataTable =\n",
              "          await google.colab.kernel.invokeFunction('convertToInteractive',\n",
              "                                                    [key], {});\n",
              "        if (!dataTable) return;\n",
              "\n",
              "        const docLinkHtml = 'Like what you see? Visit the ' +\n",
              "          '<a target=\"_blank\" href=https://colab.research.google.com/notebooks/data_table.ipynb>data table notebook</a>'\n",
              "          + ' to learn more about interactive tables.';\n",
              "        element.innerHTML = '';\n",
              "        dataTable['output_type'] = 'display_data';\n",
              "        await google.colab.output.renderOutput(dataTable, element);\n",
              "        const docLink = document.createElement('div');\n",
              "        docLink.innerHTML = docLinkHtml;\n",
              "        element.appendChild(docLink);\n",
              "      }\n",
              "    </script>\n",
              "  </div>\n",
              "\n",
              "\n",
              "<div id=\"df-04e9444d-d422-431f-afbc-7074ad3e8888\">\n",
              "  <button class=\"colab-df-quickchart\" onclick=\"quickchart('df-04e9444d-d422-431f-afbc-7074ad3e8888')\"\n",
              "            title=\"Suggest charts\"\n",
              "            style=\"display:none;\">\n",
              "\n",
              "<svg xmlns=\"http://www.w3.org/2000/svg\" height=\"24px\"viewBox=\"0 0 24 24\"\n",
              "     width=\"24px\">\n",
              "    <g>\n",
              "        <path d=\"M19 3H5c-1.1 0-2 .9-2 2v14c0 1.1.9 2 2 2h14c1.1 0 2-.9 2-2V5c0-1.1-.9-2-2-2zM9 17H7v-7h2v7zm4 0h-2V7h2v10zm4 0h-2v-4h2v4z\"/>\n",
              "    </g>\n",
              "</svg>\n",
              "  </button>\n",
              "\n",
              "<style>\n",
              "  .colab-df-quickchart {\n",
              "      --bg-color: #E8F0FE;\n",
              "      --fill-color: #1967D2;\n",
              "      --hover-bg-color: #E2EBFA;\n",
              "      --hover-fill-color: #174EA6;\n",
              "      --disabled-fill-color: #AAA;\n",
              "      --disabled-bg-color: #DDD;\n",
              "  }\n",
              "\n",
              "  [theme=dark] .colab-df-quickchart {\n",
              "      --bg-color: #3B4455;\n",
              "      --fill-color: #D2E3FC;\n",
              "      --hover-bg-color: #434B5C;\n",
              "      --hover-fill-color: #FFFFFF;\n",
              "      --disabled-bg-color: #3B4455;\n",
              "      --disabled-fill-color: #666;\n",
              "  }\n",
              "\n",
              "  .colab-df-quickchart {\n",
              "    background-color: var(--bg-color);\n",
              "    border: none;\n",
              "    border-radius: 50%;\n",
              "    cursor: pointer;\n",
              "    display: none;\n",
              "    fill: var(--fill-color);\n",
              "    height: 32px;\n",
              "    padding: 0;\n",
              "    width: 32px;\n",
              "  }\n",
              "\n",
              "  .colab-df-quickchart:hover {\n",
              "    background-color: var(--hover-bg-color);\n",
              "    box-shadow: 0 1px 2px rgba(60, 64, 67, 0.3), 0 1px 3px 1px rgba(60, 64, 67, 0.15);\n",
              "    fill: var(--button-hover-fill-color);\n",
              "  }\n",
              "\n",
              "  .colab-df-quickchart-complete:disabled,\n",
              "  .colab-df-quickchart-complete:disabled:hover {\n",
              "    background-color: var(--disabled-bg-color);\n",
              "    fill: var(--disabled-fill-color);\n",
              "    box-shadow: none;\n",
              "  }\n",
              "\n",
              "  .colab-df-spinner {\n",
              "    border: 2px solid var(--fill-color);\n",
              "    border-color: transparent;\n",
              "    border-bottom-color: var(--fill-color);\n",
              "    animation:\n",
              "      spin 1s steps(1) infinite;\n",
              "  }\n",
              "\n",
              "  @keyframes spin {\n",
              "    0% {\n",
              "      border-color: transparent;\n",
              "      border-bottom-color: var(--fill-color);\n",
              "      border-left-color: var(--fill-color);\n",
              "    }\n",
              "    20% {\n",
              "      border-color: transparent;\n",
              "      border-left-color: var(--fill-color);\n",
              "      border-top-color: var(--fill-color);\n",
              "    }\n",
              "    30% {\n",
              "      border-color: transparent;\n",
              "      border-left-color: var(--fill-color);\n",
              "      border-top-color: var(--fill-color);\n",
              "      border-right-color: var(--fill-color);\n",
              "    }\n",
              "    40% {\n",
              "      border-color: transparent;\n",
              "      border-right-color: var(--fill-color);\n",
              "      border-top-color: var(--fill-color);\n",
              "    }\n",
              "    60% {\n",
              "      border-color: transparent;\n",
              "      border-right-color: var(--fill-color);\n",
              "    }\n",
              "    80% {\n",
              "      border-color: transparent;\n",
              "      border-right-color: var(--fill-color);\n",
              "      border-bottom-color: var(--fill-color);\n",
              "    }\n",
              "    90% {\n",
              "      border-color: transparent;\n",
              "      border-bottom-color: var(--fill-color);\n",
              "    }\n",
              "  }\n",
              "</style>\n",
              "\n",
              "  <script>\n",
              "    async function quickchart(key) {\n",
              "      const quickchartButtonEl =\n",
              "        document.querySelector('#' + key + ' button');\n",
              "      quickchartButtonEl.disabled = true;  // To prevent multiple clicks.\n",
              "      quickchartButtonEl.classList.add('colab-df-spinner');\n",
              "      try {\n",
              "        const charts = await google.colab.kernel.invokeFunction(\n",
              "            'suggestCharts', [key], {});\n",
              "      } catch (error) {\n",
              "        console.error('Error during call to suggestCharts:', error);\n",
              "      }\n",
              "      quickchartButtonEl.classList.remove('colab-df-spinner');\n",
              "      quickchartButtonEl.classList.add('colab-df-quickchart-complete');\n",
              "    }\n",
              "    (() => {\n",
              "      let quickchartButtonEl =\n",
              "        document.querySelector('#df-04e9444d-d422-431f-afbc-7074ad3e8888 button');\n",
              "      quickchartButtonEl.style.display =\n",
              "        google.colab.kernel.accessAllowed ? 'block' : 'none';\n",
              "    })();\n",
              "  </script>\n",
              "</div>\n",
              "\n",
              "    </div>\n",
              "  </div>\n"
            ],
            "application/vnd.google.colaboratory.intrinsic+json": {
              "type": "dataframe"
            }
          },
          "metadata": {},
          "execution_count": 135
        }
      ],
      "execution_count": 135
    },
    {
      "cell_type": "code",
      "source": [
        "# Make a filter of columns that can be used for the analysis\n",
        "columnas_para_filtrar = [\"id\",\"compas_screening_date\",\"c_offense_date\",\"sex\",\"age\",\"age_cat\",\"race\",\"c_charge_degree\",\"c_charge_desc\",\n",
        "\"days_b_screening_arrest\", \"decile_score\", \"is_recid\",\"r_offense_date\", \"c_case_number\",\"v_decile_score\",\n",
        "\"is_violent_recid\",\"vr_offense_date\",\"score_text\"]\n",
        "df_final = df.loc[:,columnas_para_filtrar].copy()"
      ],
      "metadata": {
        "execution": {
          "iopub.status.busy": "2022-02-10T17:43:55.541262Z",
          "iopub.execute_input": "2022-02-10T17:43:55.541634Z",
          "iopub.status.idle": "2022-02-10T17:43:55.54944Z",
          "shell.execute_reply.started": "2022-02-10T17:43:55.541605Z",
          "shell.execute_reply": "2022-02-10T17:43:55.548519Z"
        },
        "trusted": true,
        "id": "Z--L6Lu-eFnq"
      },
      "outputs": [],
      "execution_count": 136
    },
    {
      "cell_type": "markdown",
      "source": [
        "# Now we will pass a series of filters to leave the dataframe ready for analysis:\n",
        "\n",
        "\n"
      ],
      "metadata": {
        "id": "Yt18u6CkeFnr"
      }
    },
    {
      "cell_type": "code",
      "source": [
        "# filter, we will keep rows that have a case number\n",
        "df_final = df_final[df_final[\"c_case_number\"] != \"NaN\"]"
      ],
      "metadata": {
        "execution": {
          "iopub.status.busy": "2022-02-10T17:43:55.550675Z",
          "iopub.execute_input": "2022-02-10T17:43:55.55153Z",
          "iopub.status.idle": "2022-02-10T17:43:55.563827Z",
          "shell.execute_reply.started": "2022-02-10T17:43:55.551477Z",
          "shell.execute_reply": "2022-02-10T17:43:55.562857Z"
        },
        "trusted": true,
        "id": "GQJr-Nu8eFnr"
      },
      "outputs": [],
      "execution_count": 137
    },
    {
      "cell_type": "code",
      "source": [
        "# we pass a filter based on the days that pass without charging a crime after being arrested (days_b_screening_arrest);\n",
        "# looking at the data we see that 75% of the data is less than -1 (with some extreme data - 576,1057);\n",
        "# for data quality reasons, we will use up to 30 days after the arrest.\n",
        "df_final[\"days_b_screening_arrest\"].describe()"
      ],
      "metadata": {
        "execution": {
          "iopub.status.busy": "2022-02-10T17:43:55.56518Z",
          "iopub.execute_input": "2022-02-10T17:43:55.565459Z",
          "iopub.status.idle": "2022-02-10T17:43:55.579887Z",
          "shell.execute_reply.started": "2022-02-10T17:43:55.565428Z",
          "shell.execute_reply": "2022-02-10T17:43:55.579158Z"
        },
        "trusted": true,
        "colab": {
          "base_uri": "https://localhost:8080/",
          "height": 335
        },
        "id": "JWW_hCNqeFns",
        "outputId": "2c46b246-86db-45e5-9327-73a01ff95d2d"
      },
      "outputs": [
        {
          "output_type": "execute_result",
          "data": {
            "text/plain": [
              "count    17019.000000\n",
              "mean         4.302485\n",
              "std         81.159881\n",
              "min       -597.000000\n",
              "25%         -1.000000\n",
              "50%         -1.000000\n",
              "75%          0.000000\n",
              "max       1057.000000\n",
              "Name: days_b_screening_arrest, dtype: float64"
            ],
            "text/html": [
              "<div>\n",
              "<style scoped>\n",
              "    .dataframe tbody tr th:only-of-type {\n",
              "        vertical-align: middle;\n",
              "    }\n",
              "\n",
              "    .dataframe tbody tr th {\n",
              "        vertical-align: top;\n",
              "    }\n",
              "\n",
              "    .dataframe thead th {\n",
              "        text-align: right;\n",
              "    }\n",
              "</style>\n",
              "<table border=\"1\" class=\"dataframe\">\n",
              "  <thead>\n",
              "    <tr style=\"text-align: right;\">\n",
              "      <th></th>\n",
              "      <th>days_b_screening_arrest</th>\n",
              "    </tr>\n",
              "  </thead>\n",
              "  <tbody>\n",
              "    <tr>\n",
              "      <th>count</th>\n",
              "      <td>17019.000000</td>\n",
              "    </tr>\n",
              "    <tr>\n",
              "      <th>mean</th>\n",
              "      <td>4.302485</td>\n",
              "    </tr>\n",
              "    <tr>\n",
              "      <th>std</th>\n",
              "      <td>81.159881</td>\n",
              "    </tr>\n",
              "    <tr>\n",
              "      <th>min</th>\n",
              "      <td>-597.000000</td>\n",
              "    </tr>\n",
              "    <tr>\n",
              "      <th>25%</th>\n",
              "      <td>-1.000000</td>\n",
              "    </tr>\n",
              "    <tr>\n",
              "      <th>50%</th>\n",
              "      <td>-1.000000</td>\n",
              "    </tr>\n",
              "    <tr>\n",
              "      <th>75%</th>\n",
              "      <td>0.000000</td>\n",
              "    </tr>\n",
              "    <tr>\n",
              "      <th>max</th>\n",
              "      <td>1057.000000</td>\n",
              "    </tr>\n",
              "  </tbody>\n",
              "</table>\n",
              "</div><br><label><b>dtype:</b> float64</label>"
            ]
          },
          "metadata": {},
          "execution_count": 138
        }
      ],
      "execution_count": 138
    },
    {
      "cell_type": "code",
      "source": [
        "# filter, we are left with cases where a crime is charged within 30 days of arrest.\n",
        "df_final = df_final.loc[(df_final[\"days_b_screening_arrest\"] <30) & (df_final[\"days_b_screening_arrest\"] > -30)]"
      ],
      "metadata": {
        "execution": {
          "iopub.status.busy": "2022-02-10T17:43:55.583729Z",
          "iopub.execute_input": "2022-02-10T17:43:55.584269Z",
          "iopub.status.idle": "2022-02-10T17:43:55.592528Z",
          "shell.execute_reply.started": "2022-02-10T17:43:55.584217Z",
          "shell.execute_reply": "2022-02-10T17:43:55.591677Z"
        },
        "trusted": true,
        "id": "veD4g1TqeFnt"
      },
      "outputs": [],
      "execution_count": 139
    },
    {
      "cell_type": "code",
      "source": [
        "# finally, the -1 values of is_recid, v_decile_score and decile_score, which mean that it has no compass evaluation;\n",
        "df_final = df_final.loc[(df_final[\"is_recid\"]!=-1) & (df[\"decile_score\"]!=-1) & (df_final[\"v_decile_score\"] !=-1)]"
      ],
      "metadata": {
        "execution": {
          "iopub.status.busy": "2022-02-10T17:43:55.593822Z",
          "iopub.execute_input": "2022-02-10T17:43:55.594249Z",
          "iopub.status.idle": "2022-02-10T17:43:55.627889Z",
          "shell.execute_reply.started": "2022-02-10T17:43:55.594211Z",
          "shell.execute_reply": "2022-02-10T17:43:55.627188Z"
        },
        "trusted": true,
        "id": "J9rV1wyAeFnt"
      },
      "outputs": [],
      "execution_count": 140
    },
    {
      "cell_type": "code",
      "source": [
        "# we convert some columns to categories; in the first ones I want to give an order for visualizations\n",
        "# using pd.CategoricalDtype.\n",
        "race_type = pd.CategoricalDtype(categories=['African-American','Caucasian','Hispanic',\"Other\",'Asian',\n",
        "'Native American'],ordered=True)\n",
        "df_final[\"race\"] = df_final[\"race\"].astype(race_type)\n",
        "\n",
        "score_type = pd.CategoricalDtype(categories=[\"Low\",\"Medium\",\"High\"],ordered=True)\n",
        "df_final[\"score_text\"] = df_final[\"score_text\"].astype(score_type)\n",
        "\n",
        "age_type = pd.CategoricalDtype(categories=[\"Less than 25\",\"25 - 45\",\"Greater than 45\"],ordered=True)\n",
        "df_final[\"age_cat\"] = df_final[\"age_cat\"].astype(age_type)\n",
        "\n",
        "# the rest with the normal method astype\n",
        "for col in [\"sex\",\"c_charge_degree\"]:\n",
        "    df_final[col] = df_final[col].astype(\"category\")"
      ],
      "metadata": {
        "execution": {
          "iopub.status.busy": "2022-02-10T17:43:55.629427Z",
          "iopub.execute_input": "2022-02-10T17:43:55.629757Z",
          "iopub.status.idle": "2022-02-10T17:43:55.65111Z",
          "shell.execute_reply.started": "2022-02-10T17:43:55.629715Z",
          "shell.execute_reply": "2022-02-10T17:43:55.650244Z"
        },
        "trusted": true,
        "id": "ZTtY2FJReFnt"
      },
      "outputs": [],
      "execution_count": 141
    },
    {
      "cell_type": "code",
      "source": [
        "# we will not count as repeat offenses cases involving traffic tickets and municipal ordinance violations.\n",
        "# charge degree = O\n",
        "df_final = df_final[df_final[\"c_charge_degree\"] != \"O\"]\n",
        "# and those that also do not have text evaluation (low,medium,high)\n",
        "df_final = df_final[df_final[\"score_text\"] != \"NaN\"]"
      ],
      "metadata": {
        "execution": {
          "iopub.status.busy": "2022-02-10T17:43:55.652676Z",
          "iopub.execute_input": "2022-02-10T17:43:55.652894Z",
          "iopub.status.idle": "2022-02-10T17:43:55.662005Z",
          "shell.execute_reply.started": "2022-02-10T17:43:55.652867Z",
          "shell.execute_reply": "2022-02-10T17:43:55.661182Z"
        },
        "trusted": true,
        "id": "YSBIhCVTeFnu"
      },
      "outputs": [],
      "execution_count": 142
    },
    {
      "cell_type": "code",
      "source": [
        "# we also filter out cases in which the date of compas is prior to the date of the commission of the crime.\n",
        "df_final = df_final[df_final[\"c_offense_date\"] < df_final[\"compas_screening_date\"]]"
      ],
      "metadata": {
        "execution": {
          "iopub.status.busy": "2022-02-10T17:43:55.663221Z",
          "iopub.execute_input": "2022-02-10T17:43:55.663569Z",
          "iopub.status.idle": "2022-02-10T17:43:55.675302Z",
          "shell.execute_reply.started": "2022-02-10T17:43:55.663535Z",
          "shell.execute_reply": "2022-02-10T17:43:55.674409Z"
        },
        "trusted": true,
        "id": "qUHQlNJ_eFnu"
      },
      "outputs": [],
      "execution_count": 143
    },
    {
      "cell_type": "code",
      "source": [
        "def two_years(df, col, col_recid):\n",
        "    # Ensure the columns are in datetime format\n",
        "    df[col] = pd.to_datetime(df[col], errors='coerce')\n",
        "    df[\"compas_screening_date\"] = pd.to_datetime(df[\"compas_screening_date\"], errors='coerce')\n",
        "\n",
        "    # Calculate the difference in days\n",
        "    df[\"days\"] = (df[col] - df[\"compas_screening_date\"]).dt.days\n",
        "\n",
        "    # Assign values based on the `col_recid` and `days`\n",
        "    df[\"two\"] = np.where(\n",
        "        df[col_recid] == 0, 0,\n",
        "        np.where((df[col_recid] == 1) & (df[\"days\"] < 730), 1, 3)\n",
        "    )\n",
        "\n",
        "    return df[\"two\"]\n",
        "\n",
        "# Applying the function and creating new columns in df_final\n",
        "df_final[\"two_years_r\"] = two_years(df_final, \"r_offense_date\", \"is_recid\")\n",
        "df_final[\"two_years_v\"] = two_years(df_final, \"vr_offense_date\", \"is_violent_recid\")"
      ],
      "metadata": {
        "id": "GArYYjZ4htEY"
      },
      "execution_count": 144,
      "outputs": []
    },
    {
      "cell_type": "code",
      "source": [
        "# now we remove repeat offenders but for more than two years.\n",
        "df_final_c = df_final[df_final[\"two_years_r\"] !=3].copy()\n",
        "\n",
        "\n",
        "# and also for the violent ones\n",
        "df_final_v = df_final[df_final[\"two_years_v\"] != 3].copy()\n",
        "\n",
        "df_final_c.reset_index(drop=True,inplace=True)\n",
        "df_final_v.reset_index(drop=True,inplace=True)"
      ],
      "metadata": {
        "execution": {
          "iopub.status.busy": "2022-02-10T17:43:55.786702Z",
          "iopub.execute_input": "2022-02-10T17:43:55.786913Z",
          "iopub.status.idle": "2022-02-10T17:43:55.79699Z",
          "shell.execute_reply.started": "2022-02-10T17:43:55.786887Z",
          "shell.execute_reply": "2022-02-10T17:43:55.795874Z"
        },
        "trusted": true,
        "id": "4qlF2nzjeFnv"
      },
      "outputs": [],
      "execution_count": 145
    },
    {
      "cell_type": "markdown",
      "source": [
        "Now I create two new columns that will later help me to extract data more easily:\n",
        "\n",
        "* one that translates decile score to binary (1,0)\n",
        "* another one that returns True/False based on whether the Compas prediction is correct."
      ],
      "metadata": {
        "id": "xgSPDdwLeFnw"
      }
    },
    {
      "cell_type": "code",
      "source": [
        "# I create a column of 0 and 1, with decile score data (scores of 5 and above are considered likely to reoffend ).\n",
        "\n",
        "df_final_c[\"binary_decile_score\"] = np.where(df_final_c[\"decile_score\"] >=5,1,0)\n",
        "df_final_v[\"binary_v_decile_score\"] = np.where(df_final_v[\"v_decile_score\"] >=5,1,0)"
      ],
      "metadata": {
        "execution": {
          "iopub.status.busy": "2022-02-10T17:43:55.798233Z",
          "iopub.execute_input": "2022-02-10T17:43:55.798971Z",
          "iopub.status.idle": "2022-02-10T17:43:55.806697Z",
          "shell.execute_reply.started": "2022-02-10T17:43:55.798927Z",
          "shell.execute_reply": "2022-02-10T17:43:55.805832Z"
        },
        "trusted": true,
        "id": "YAoZ2dnmeFnw"
      },
      "outputs": [],
      "execution_count": 146
    },
    {
      "cell_type": "code",
      "source": [
        "#we can create a column that returns true if the prediction is correct and false otherwise, for both is_recid and violent_is_recid\n",
        "\n",
        "df_final_c[\"recid_comparison_column\"] = df_final_c['is_recid'] == df_final_c[\"binary_decile_score\"]\n",
        "\n",
        "df_final_v[\"v_recid_comparison_column\"] = df_final_v['is_violent_recid'] == df_final_v[\"binary_v_decile_score\"]"
      ],
      "metadata": {
        "execution": {
          "iopub.status.busy": "2022-02-10T17:43:55.808158Z",
          "iopub.execute_input": "2022-02-10T17:43:55.808657Z",
          "iopub.status.idle": "2022-02-10T17:43:55.8173Z",
          "shell.execute_reply.started": "2022-02-10T17:43:55.808613Z",
          "shell.execute_reply": "2022-02-10T17:43:55.816616Z"
        },
        "trusted": true,
        "id": "zb1wJ0FyeFnw"
      },
      "outputs": [],
      "execution_count": 147
    },
    {
      "cell_type": "code",
      "source": [
        "# and finally reset the index\n",
        "df_final_c.reset_index(drop=True,inplace=True)\n",
        "df_final_v.reset_index(drop=True,inplace=True)"
      ],
      "metadata": {
        "execution": {
          "iopub.status.busy": "2022-02-10T17:43:55.818741Z",
          "iopub.execute_input": "2022-02-10T17:43:55.819228Z",
          "iopub.status.idle": "2022-02-10T17:43:55.830527Z",
          "shell.execute_reply.started": "2022-02-10T17:43:55.81918Z",
          "shell.execute_reply": "2022-02-10T17:43:55.829552Z"
        },
        "trusted": true,
        "id": "VVqL1nVoeFnw"
      },
      "outputs": [],
      "execution_count": 148
    },
    {
      "cell_type": "markdown",
      "source": [
        "# EDA\n",
        "After making the appropriate corrections, we are going to make an exploratory analysis of the data where we will see:\n",
        "* gender\n",
        "* age\n",
        "* race\n"
      ],
      "metadata": {
        "id": "rYQxMFeIeFnx"
      }
    },
    {
      "cell_type": "markdown",
      "source": [
        "### SEX AND AGE"
      ],
      "metadata": {
        "id": "ZKUW4A94eFny"
      }
    },
    {
      "cell_type": "code",
      "source": [
        "# we will see some data of the dataset according to sex;\n",
        "\n",
        "\n",
        "plt.figure(figsize=(8,5))\n",
        "sns.countplot(data=df_final_c,x=\"sex\",hue=\"age_cat\",palette=\"Blues_r\")\n",
        "plt.title(\"Number of cases by sex and age\")\n",
        "plt.xlabel(\"\")\n",
        "plt.show(block=False)"
      ],
      "metadata": {
        "execution": {
          "iopub.status.busy": "2022-02-10T17:43:55.923428Z",
          "iopub.execute_input": "2022-02-10T17:43:55.923894Z",
          "iopub.status.idle": "2022-02-10T17:43:56.286291Z",
          "shell.execute_reply.started": "2022-02-10T17:43:55.92385Z",
          "shell.execute_reply": "2022-02-10T17:43:56.285253Z"
        },
        "trusted": true,
        "colab": {
          "base_uri": "https://localhost:8080/",
          "height": 467
        },
        "id": "UZWlEEhreFny",
        "outputId": "fdb06234-c9a6-43ef-9d87-30599a29ef6c"
      },
      "outputs": [
        {
          "output_type": "display_data",
          "data": {
            "text/plain": [
              "<Figure size 800x500 with 1 Axes>"
            ],
            "image/png": "[encoded data removed]"
          },
          "metadata": {
            "image/png": {
              "width": 704,
              "height": 450
            }
          }
        }
      ],
      "execution_count": 149
    },
    {
      "cell_type": "code",
      "source": [
        "# as we saw before there is a correlation between age and decile score, the younger the more it penalizes.\n",
        "decile_mean_age = df_final_c.groupby(\"age_cat\")[\"decile_score\"].mean().reset_index()\n",
        "sns.barplot(data=decile_mean_age,x=\"age_cat\",y=\"decile_score\",palette=\"Blues_r\")\n",
        "plt.ylabel(\"Decile score mean\")\n",
        "plt.xlabel(\"\")\n",
        "plt.title(\"Mean decile score by age range\")\n",
        "plt.show(block=False)"
      ],
      "metadata": {
        "execution": {
          "iopub.status.busy": "2022-02-10T17:43:56.321066Z",
          "iopub.execute_input": "2022-02-10T17:43:56.321277Z",
          "iopub.status.idle": "2022-02-10T17:43:56.593041Z",
          "shell.execute_reply.started": "2022-02-10T17:43:56.321252Z",
          "shell.execute_reply": "2022-02-10T17:43:56.59238Z"
        },
        "trusted": true,
        "colab": {
          "base_uri": "https://localhost:8080/",
          "height": 451
        },
        "id": "g0lGvEJreFnz",
        "outputId": "c52c03a1-b408-489e-bc60-c25ced4f8517"
      },
      "outputs": [
        {
          "output_type": "display_data",
          "data": {
            "text/plain": [
              "<Figure size 640x480 with 1 Axes>"
            ],
            "image/png": "[encoded data removed]"
          },
          "metadata": {
            "image/png": {
              "width": 554,
              "height": 434
            }
          }
        }
      ],
      "execution_count": 150
    },
    {
      "cell_type": "code",
      "source": [
        "# We can plot the average recidivism rate by age and sex,\n",
        "\n",
        "sex_edad_recid = df_final_c.groupby([\"sex\",\"age_cat\"])[\"two_years_r\"].mean().reset_index()\n",
        "\n",
        "plt.figure(figsize=(7,4))\n",
        "sns.barplot(data=sex_edad_recid,x=\"age_cat\",y=\"two_years_r\",hue=\"sex\",palette=\"Blues_r\")\n",
        "plt.title(\"Mean recidivism by age and sex\")\n",
        "plt.xlabel(\"\")\n",
        "plt.ylabel(\"recidivism rate\")\n",
        "plt.text(x=1.93,y=0.32,s=\"is_recid,s mean\")\n",
        "plt.show(block=False)"
      ],
      "metadata": {
        "execution": {
          "iopub.status.busy": "2022-02-10T17:43:56.594199Z",
          "iopub.execute_input": "2022-02-10T17:43:56.594426Z",
          "iopub.status.idle": "2022-02-10T17:43:56.946076Z",
          "shell.execute_reply.started": "2022-02-10T17:43:56.5944Z",
          "shell.execute_reply": "2022-02-10T17:43:56.945172Z"
        },
        "trusted": true,
        "colab": {
          "base_uri": "https://localhost:8080/",
          "height": 390
        },
        "id": "SmyJkp2yeFnz",
        "outputId": "68c73439-8fec-4679-da7f-74f28598d4c3"
      },
      "outputs": [
        {
          "output_type": "display_data",
          "data": {
            "text/plain": [
              "<Figure size 700x400 with 1 Axes>"
            ],
            "image/png": "[encoded data removed]"
          },
          "metadata": {
            "image/png": {
              "width": 627,
              "height": 373
            }
          }
        }
      ],
      "execution_count": 151
    },
    {
      "cell_type": "markdown",
      "source": [
        "### RACE\n",
        "\n",
        "* With race, when looking at the statistics, we must always keep in mind that there is very little data on Asians and Native Americans (a good idea would be to group them together with Other in a single category to make it more representative).\n",
        "\n",
        "\n",
        "* This is important because the dataset is not balanced and can be very biased due to the predominance of this ethnic group.\n",
        "\n"
      ],
      "metadata": {
        "id": "n5zKaPJCeFn0"
      }
    },
    {
      "cell_type": "code",
      "source": [
        "df_final_c.groupby(\"race\",as_index=False)[\"two_years_r\"].mean().style.background_gradient(cmap='Blues',axis=0)"
      ],
      "metadata": {
        "execution": {
          "iopub.status.busy": "2022-02-10T17:43:58.203056Z",
          "iopub.execute_input": "2022-02-10T17:43:58.203301Z",
          "iopub.status.idle": "2022-02-10T17:43:58.285343Z",
          "shell.execute_reply.started": "2022-02-10T17:43:58.203271Z",
          "shell.execute_reply": "2022-02-10T17:43:58.284199Z"
        },
        "trusted": true,
        "colab": {
          "base_uri": "https://localhost:8080/",
          "height": 238
        },
        "id": "eDnyekq4eFn1",
        "outputId": "41791e58-bb55-49c6-e524-9c61949f986b"
      },
      "outputs": [
        {
          "output_type": "execute_result",
          "data": {
            "text/plain": [
              "<pandas.io.formats.style.Styler at 0x79f91ff2d450>"
            ],
            "text/html": [
              "<style type=\"text/css\">\n",
              "#T_991ff_row0_col1 {\n",
              "  background-color: #08306b;\n",
              "  color: #f1f1f1;\n",
              "}\n",
              "#T_991ff_row1_col1 {\n",
              "  background-color: #519ccc;\n",
              "  color: #f1f1f1;\n",
              "}\n",
              "#T_991ff_row2_col1 {\n",
              "  background-color: #4191c6;\n",
              "  color: #f1f1f1;\n",
              "}\n",
              "#T_991ff_row3_col1 {\n",
              "  background-color: #77b5d9;\n",
              "  color: #000000;\n",
              "}\n",
              "#T_991ff_row4_col1 {\n",
              "  background-color: #8fc2de;\n",
              "  color: #000000;\n",
              "}\n",
              "#T_991ff_row5_col1 {\n",
              "  background-color: #f7fbff;\n",
              "  color: #000000;\n",
              "}\n",
              "</style>\n",
              "<table id=\"T_991ff\" class=\"dataframe\">\n",
              "  <thead>\n",
              "    <tr>\n",
              "      <th class=\"blank level0\" >&nbsp;</th>\n",
              "      <th id=\"T_991ff_level0_col0\" class=\"col_heading level0 col0\" >race</th>\n",
              "      <th id=\"T_991ff_level0_col1\" class=\"col_heading level0 col1\" >two_years_r</th>\n",
              "    </tr>\n",
              "  </thead>\n",
              "  <tbody>\n",
              "    <tr>\n",
              "      <th id=\"T_991ff_level0_row0\" class=\"row_heading level0 row0\" >0</th>\n",
              "      <td id=\"T_991ff_row0_col0\" class=\"data row0 col0\" >African-American</td>\n",
              "      <td id=\"T_991ff_row0_col1\" class=\"data row0 col1\" >0.316881</td>\n",
              "    </tr>\n",
              "    <tr>\n",
              "      <th id=\"T_991ff_level0_row1\" class=\"row_heading level0 row1\" >1</th>\n",
              "      <td id=\"T_991ff_row1_col0\" class=\"data row1 col0\" >Caucasian</td>\n",
              "      <td id=\"T_991ff_row1_col1\" class=\"data row1 col1\" >0.207533</td>\n",
              "    </tr>\n",
              "    <tr>\n",
              "      <th id=\"T_991ff_level0_row2\" class=\"row_heading level0 row2\" >2</th>\n",
              "      <td id=\"T_991ff_row2_col0\" class=\"data row2 col0\" >Hispanic</td>\n",
              "      <td id=\"T_991ff_row2_col1\" class=\"data row2 col1\" >0.219403</td>\n",
              "    </tr>\n",
              "    <tr>\n",
              "      <th id=\"T_991ff_level0_row3\" class=\"row_heading level0 row3\" >3</th>\n",
              "      <td id=\"T_991ff_row3_col0\" class=\"data row3 col0\" >Other</td>\n",
              "      <td id=\"T_991ff_row3_col1\" class=\"data row3 col1\" >0.178082</td>\n",
              "    </tr>\n",
              "    <tr>\n",
              "      <th id=\"T_991ff_level0_row4\" class=\"row_heading level0 row4\" >4</th>\n",
              "      <td id=\"T_991ff_row4_col0\" class=\"data row4 col0\" >Asian</td>\n",
              "      <td id=\"T_991ff_row4_col1\" class=\"data row4 col1\" >0.162791</td>\n",
              "    </tr>\n",
              "    <tr>\n",
              "      <th id=\"T_991ff_level0_row5\" class=\"row_heading level0 row5\" >5</th>\n",
              "      <td id=\"T_991ff_row5_col0\" class=\"data row5 col0\" >Native American</td>\n",
              "      <td id=\"T_991ff_row5_col1\" class=\"data row5 col1\" >0.055556</td>\n",
              "    </tr>\n",
              "  </tbody>\n",
              "</table>\n"
            ]
          },
          "metadata": {},
          "execution_count": 152
        }
      ],
      "execution_count": 152
    },
    {
      "cell_type": "code",
      "source": [
        "# we now see the percentage of cases by race and age. In young people under 25 years of age, African-Americans predominate.\n",
        "\n",
        "# using normalize = 0 we obtain percentages by rows.\n",
        "pd.crosstab(df_final_c[\"race\"],df_final_c[\"age_cat\"],normalize=0).style.background_gradient(cmap='Blues',axis=1)"
      ],
      "metadata": {
        "execution": {
          "iopub.status.busy": "2022-02-10T17:43:58.286827Z",
          "iopub.execute_input": "2022-02-10T17:43:58.287072Z",
          "iopub.status.idle": "2022-02-10T17:43:58.327966Z",
          "shell.execute_reply.started": "2022-02-10T17:43:58.287041Z",
          "shell.execute_reply": "2022-02-10T17:43:58.327238Z"
        },
        "trusted": true,
        "colab": {
          "base_uri": "https://localhost:8080/",
          "height": 269
        },
        "id": "YGNNZ74ReFn2",
        "outputId": "a54e571e-d482-4c67-bc53-ba5cd7a63f0a"
      },
      "outputs": [
        {
          "output_type": "execute_result",
          "data": {
            "text/plain": [
              "<pandas.io.formats.style.Styler at 0x79f91e52b940>"
            ],
            "text/html": [
              "<style type=\"text/css\">\n",
              "#T_3bbc0_row0_col0 {\n",
              "  background-color: #b5d4e9;\n",
              "  color: #000000;\n",
              "}\n",
              "#T_3bbc0_row0_col1, #T_3bbc0_row1_col1, #T_3bbc0_row2_col1, #T_3bbc0_row3_col1, #T_3bbc0_row4_col1, #T_3bbc0_row5_col1, #T_3bbc0_row5_col2 {\n",
              "  background-color: #08306b;\n",
              "  color: #f1f1f1;\n",
              "}\n",
              "#T_3bbc0_row0_col2, #T_3bbc0_row1_col0, #T_3bbc0_row2_col0, #T_3bbc0_row3_col0, #T_3bbc0_row4_col0, #T_3bbc0_row5_col0 {\n",
              "  background-color: #f7fbff;\n",
              "  color: #000000;\n",
              "}\n",
              "#T_3bbc0_row1_col2 {\n",
              "  background-color: #a6cee4;\n",
              "  color: #000000;\n",
              "}\n",
              "#T_3bbc0_row2_col2 {\n",
              "  background-color: #eaf2fb;\n",
              "  color: #000000;\n",
              "}\n",
              "#T_3bbc0_row3_col2 {\n",
              "  background-color: #e8f1fa;\n",
              "  color: #000000;\n",
              "}\n",
              "#T_3bbc0_row4_col2 {\n",
              "  background-color: #99c7e0;\n",
              "  color: #000000;\n",
              "}\n",
              "</style>\n",
              "<table id=\"T_3bbc0\" class=\"dataframe\">\n",
              "  <thead>\n",
              "    <tr>\n",
              "      <th class=\"index_name level0\" >age_cat</th>\n",
              "      <th id=\"T_3bbc0_level0_col0\" class=\"col_heading level0 col0\" >Less than 25</th>\n",
              "      <th id=\"T_3bbc0_level0_col1\" class=\"col_heading level0 col1\" >25 - 45</th>\n",
              "      <th id=\"T_3bbc0_level0_col2\" class=\"col_heading level0 col2\" >Greater than 45</th>\n",
              "    </tr>\n",
              "    <tr>\n",
              "      <th class=\"index_name level0\" >race</th>\n",
              "      <th class=\"blank col0\" >&nbsp;</th>\n",
              "      <th class=\"blank col1\" >&nbsp;</th>\n",
              "      <th class=\"blank col2\" >&nbsp;</th>\n",
              "    </tr>\n",
              "  </thead>\n",
              "  <tbody>\n",
              "    <tr>\n",
              "      <th id=\"T_3bbc0_level0_row0\" class=\"row_heading level0 row0\" >African-American</th>\n",
              "      <td id=\"T_3bbc0_row0_col0\" class=\"data row0 col0\" >0.277238</td>\n",
              "      <td id=\"T_3bbc0_row0_col1\" class=\"data row0 col1\" >0.575479</td>\n",
              "      <td id=\"T_3bbc0_row0_col2\" class=\"data row0 col2\" >0.147283</td>\n",
              "    </tr>\n",
              "    <tr>\n",
              "      <th id=\"T_3bbc0_level0_row1\" class=\"row_heading level0 row1\" >Caucasian</th>\n",
              "      <td id=\"T_3bbc0_row1_col0\" class=\"data row1 col0\" >0.167179</td>\n",
              "      <td id=\"T_3bbc0_row1_col1\" class=\"data row1 col1\" >0.536126</td>\n",
              "      <td id=\"T_3bbc0_row1_col2\" class=\"data row1 col2\" >0.296695</td>\n",
              "    </tr>\n",
              "    <tr>\n",
              "      <th id=\"T_3bbc0_level0_row2\" class=\"row_heading level0 row2\" >Hispanic</th>\n",
              "      <td id=\"T_3bbc0_row2_col0\" class=\"data row2 col0\" >0.200000</td>\n",
              "      <td id=\"T_3bbc0_row2_col1\" class=\"data row2 col1\" >0.574627</td>\n",
              "      <td id=\"T_3bbc0_row2_col2\" class=\"data row2 col2\" >0.225373</td>\n",
              "    </tr>\n",
              "    <tr>\n",
              "      <th id=\"T_3bbc0_level0_row3\" class=\"row_heading level0 row3\" >Other</th>\n",
              "      <td id=\"T_3bbc0_row3_col0\" class=\"data row3 col0\" >0.196347</td>\n",
              "      <td id=\"T_3bbc0_row3_col1\" class=\"data row3 col1\" >0.577626</td>\n",
              "      <td id=\"T_3bbc0_row3_col2\" class=\"data row3 col2\" >0.226027</td>\n",
              "    </tr>\n",
              "    <tr>\n",
              "      <th id=\"T_3bbc0_level0_row4\" class=\"row_heading level0 row4\" >Asian</th>\n",
              "      <td id=\"T_3bbc0_row4_col0\" class=\"data row4 col0\" >0.139535</td>\n",
              "      <td id=\"T_3bbc0_row4_col1\" class=\"data row4 col1\" >0.558140</td>\n",
              "      <td id=\"T_3bbc0_row4_col2\" class=\"data row4 col2\" >0.302326</td>\n",
              "    </tr>\n",
              "    <tr>\n",
              "      <th id=\"T_3bbc0_level0_row5\" class=\"row_heading level0 row5\" >Native American</th>\n",
              "      <td id=\"T_3bbc0_row5_col0\" class=\"data row5 col0\" >0.111111</td>\n",
              "      <td id=\"T_3bbc0_row5_col1\" class=\"data row5 col1\" >0.444444</td>\n",
              "      <td id=\"T_3bbc0_row5_col2\" class=\"data row5 col2\" >0.444444</td>\n",
              "    </tr>\n",
              "  </tbody>\n",
              "</table>\n"
            ]
          },
          "metadata": {},
          "execution_count": 153
        }
      ],
      "execution_count": 153
    },
    {
      "cell_type": "code",
      "source": [
        "# We can also look at recidivism percentages by race-age;\n",
        "\n",
        "pd.crosstab(values=df_final_c[\"two_years_r\"],index=df_final_c[\"race\"],columns=df_final_c[\"age_cat\"],aggfunc=\"mean\")\\\n",
        "    .style.background_gradient(cmap='Blues',axis=1)"
      ],
      "metadata": {
        "execution": {
          "iopub.status.busy": "2022-02-10T17:43:58.329255Z",
          "iopub.execute_input": "2022-02-10T17:43:58.3298Z",
          "iopub.status.idle": "2022-02-10T17:43:58.368468Z",
          "shell.execute_reply.started": "2022-02-10T17:43:58.329767Z",
          "shell.execute_reply": "2022-02-10T17:43:58.367859Z"
        },
        "trusted": true,
        "colab": {
          "base_uri": "https://localhost:8080/",
          "height": 269
        },
        "id": "KrzFk487eFn2",
        "outputId": "c868b1a6-3a89-4261-b882-be55159bd12a"
      },
      "outputs": [
        {
          "output_type": "execute_result",
          "data": {
            "text/plain": [
              "<pandas.io.formats.style.Styler at 0x79f918c631c0>"
            ],
            "text/html": [
              "<style type=\"text/css\">\n",
              "#T_e0944_row0_col0, #T_e0944_row1_col0, #T_e0944_row2_col0, #T_e0944_row3_col0, #T_e0944_row4_col1, #T_e0944_row5_col0 {\n",
              "  background-color: #08306b;\n",
              "  color: #f1f1f1;\n",
              "}\n",
              "#T_e0944_row0_col1 {\n",
              "  background-color: #5fa6d1;\n",
              "  color: #f1f1f1;\n",
              "}\n",
              "#T_e0944_row0_col2, #T_e0944_row1_col2, #T_e0944_row2_col2, #T_e0944_row3_col2, #T_e0944_row4_col2, #T_e0944_row5_col1, #T_e0944_row5_col2 {\n",
              "  background-color: #f7fbff;\n",
              "  color: #000000;\n",
              "}\n",
              "#T_e0944_row1_col1 {\n",
              "  background-color: #1561a9;\n",
              "  color: #f1f1f1;\n",
              "}\n",
              "#T_e0944_row2_col1 {\n",
              "  background-color: #083d7f;\n",
              "  color: #f1f1f1;\n",
              "}\n",
              "#T_e0944_row3_col1 {\n",
              "  background-color: #7cb7da;\n",
              "  color: #000000;\n",
              "}\n",
              "#T_e0944_row4_col0 {\n",
              "  background-color: #3383be;\n",
              "  color: #f1f1f1;\n",
              "}\n",
              "</style>\n",
              "<table id=\"T_e0944\" class=\"dataframe\">\n",
              "  <thead>\n",
              "    <tr>\n",
              "      <th class=\"index_name level0\" >age_cat</th>\n",
              "      <th id=\"T_e0944_level0_col0\" class=\"col_heading level0 col0\" >Less than 25</th>\n",
              "      <th id=\"T_e0944_level0_col1\" class=\"col_heading level0 col1\" >25 - 45</th>\n",
              "      <th id=\"T_e0944_level0_col2\" class=\"col_heading level0 col2\" >Greater than 45</th>\n",
              "    </tr>\n",
              "    <tr>\n",
              "      <th class=\"index_name level0\" >race</th>\n",
              "      <th class=\"blank col0\" >&nbsp;</th>\n",
              "      <th class=\"blank col1\" >&nbsp;</th>\n",
              "      <th class=\"blank col2\" >&nbsp;</th>\n",
              "    </tr>\n",
              "  </thead>\n",
              "  <tbody>\n",
              "    <tr>\n",
              "      <th id=\"T_e0944_level0_row0\" class=\"row_heading level0 row0\" >African-American</th>\n",
              "      <td id=\"T_e0944_row0_col0\" class=\"data row0 col0\" >0.361742</td>\n",
              "      <td id=\"T_e0944_row0_col1\" class=\"data row0 col1\" >0.311588</td>\n",
              "      <td id=\"T_e0944_row0_col2\" class=\"data row0 col2\" >0.253119</td>\n",
              "    </tr>\n",
              "    <tr>\n",
              "      <th id=\"T_e0944_level0_row1\" class=\"row_heading level0 row1\" >Caucasian</th>\n",
              "      <td id=\"T_e0944_row1_col0\" class=\"data row1 col0\" >0.257471</td>\n",
              "      <td id=\"T_e0944_row1_col1\" class=\"data row1 col1\" >0.233692</td>\n",
              "      <td id=\"T_e0944_row1_col2\" class=\"data row1 col2\" >0.132124</td>\n",
              "    </tr>\n",
              "    <tr>\n",
              "      <th id=\"T_e0944_level0_row2\" class=\"row_heading level0 row2\" >Hispanic</th>\n",
              "      <td id=\"T_e0944_row2_col0\" class=\"data row2 col0\" >0.253731</td>\n",
              "      <td id=\"T_e0944_row2_col1\" class=\"data row2 col1\" >0.246753</td>\n",
              "      <td id=\"T_e0944_row2_col2\" class=\"data row2 col2\" >0.119205</td>\n",
              "    </tr>\n",
              "    <tr>\n",
              "      <th id=\"T_e0944_level0_row3\" class=\"row_heading level0 row3\" >Other</th>\n",
              "      <td id=\"T_e0944_row3_col0\" class=\"data row3 col0\" >0.220930</td>\n",
              "      <td id=\"T_e0944_row3_col1\" class=\"data row3 col1\" >0.177866</td>\n",
              "      <td id=\"T_e0944_row3_col2\" class=\"data row3 col2\" >0.141414</td>\n",
              "    </tr>\n",
              "    <tr>\n",
              "      <th id=\"T_e0944_level0_row4\" class=\"row_heading level0 row4\" >Asian</th>\n",
              "      <td id=\"T_e0944_row4_col0\" class=\"data row4 col0\" >0.166667</td>\n",
              "      <td id=\"T_e0944_row4_col1\" class=\"data row4 col1\" >0.208333</td>\n",
              "      <td id=\"T_e0944_row4_col2\" class=\"data row4 col2\" >0.076923</td>\n",
              "    </tr>\n",
              "    <tr>\n",
              "      <th id=\"T_e0944_level0_row5\" class=\"row_heading level0 row5\" >Native American</th>\n",
              "      <td id=\"T_e0944_row5_col0\" class=\"data row5 col0\" >0.500000</td>\n",
              "      <td id=\"T_e0944_row5_col1\" class=\"data row5 col1\" >0.000000</td>\n",
              "      <td id=\"T_e0944_row5_col2\" class=\"data row5 col2\" >0.000000</td>\n",
              "    </tr>\n",
              "  </tbody>\n",
              "</table>\n"
            ]
          },
          "metadata": {},
          "execution_count": 154
        }
      ],
      "execution_count": 154
    },
    {
      "cell_type": "markdown",
      "source": [
        "### COMPAS VS RACE and SEX\n",
        "\n",
        "We first compare the actual recidivism rate vs. that predicted by Compas; for Caucasians and Hispanics they are very even but for African-Americans the prediction is much higher than actual cases"
      ],
      "metadata": {
        "id": "jz9FMEBGeFn5"
      }
    },
    {
      "cell_type": "code",
      "source": [
        "# comparamos reincidencia real vs prevision compas\n",
        "real = df_final_c.groupby(\"race\",as_index=False)[\"two_years_r\"].mean()\n",
        "compas = df_final_c.groupby(\"race\")[\"binary_decile_score\"].mean().reset_index()\n",
        "\n",
        "sns.barplot(data=compas,x=\"race\",y=\"binary_decile_score\",color=\"powderblue\",label=\"Prevision\")\n",
        "\n",
        "ax= sns.barplot(data=real,x=\"race\",y=\"two_years_r\",color=\"blue\",label=\"Real\")\n",
        "\n",
        "plt.title(\"Actual recidivism rate vs. Compas\")\n",
        "plt.xticks(rotation=45)\n",
        "plt.xlabel(\"\")\n",
        "plt.ylabel(\"\")\n",
        "plt.legend()\n",
        "# so only the graphic appears without any text referring to the object type.\n",
        "plt.show(block=False)"
      ],
      "metadata": {
        "execution": {
          "iopub.status.busy": "2022-02-10T17:43:59.356945Z",
          "iopub.execute_input": "2022-02-10T17:43:59.357935Z",
          "iopub.status.idle": "2022-02-10T17:43:59.756118Z",
          "shell.execute_reply.started": "2022-02-10T17:43:59.357897Z",
          "shell.execute_reply": "2022-02-10T17:43:59.755224Z"
        },
        "trusted": true,
        "colab": {
          "base_uri": "https://localhost:8080/",
          "height": 531
        },
        "id": "16VdJ6jmeFn5",
        "outputId": "91957735-acf5-49d3-c845-30d6e37593bf"
      },
      "outputs": [
        {
          "output_type": "display_data",
          "data": {
            "text/plain": [
              "<Figure size 640x480 with 1 Axes>"
            ],
            "image/png": "[encoded data removed]"
          },
          "metadata": {
            "image/png": {
              "width": 552,
              "height": 514
            }
          }
        }
      ],
      "execution_count": 155
    },
    {
      "cell_type": "code",
      "source": [
        "df_final_c.groupby(\"race\").agg({\"two_years_r\":\"mean\",\n",
        "                                    \"binary_decile_score\":\"mean\"})"
      ],
      "metadata": {
        "execution": {
          "iopub.status.busy": "2022-02-10T17:43:59.757375Z",
          "iopub.execute_input": "2022-02-10T17:43:59.757833Z",
          "iopub.status.idle": "2022-02-10T17:43:59.772322Z",
          "shell.execute_reply.started": "2022-02-10T17:43:59.757788Z",
          "shell.execute_reply": "2022-02-10T17:43:59.77155Z"
        },
        "trusted": true,
        "colab": {
          "base_uri": "https://localhost:8080/",
          "height": 269
        },
        "id": "_cRdb5LKeFn5",
        "outputId": "def49f3b-380b-461d-fa32-905806c1cd43"
      },
      "outputs": [
        {
          "output_type": "execute_result",
          "data": {
            "text/plain": [
              "                  two_years_r  binary_decile_score\n",
              "race                                              \n",
              "African-American     0.316881             0.599370\n",
              "Caucasian            0.207533             0.343198\n",
              "Hispanic             0.219403             0.295522\n",
              "Other                0.178082             0.223744\n",
              "Asian                0.162791             0.302326\n",
              "Native American      0.055556             0.166667"
            ],
            "text/html": [
              "\n",
              "  <div id=\"df-e3afd358-0226-4982-8666-43a2da89ffef\" class=\"colab-df-container\">\n",
              "    <div>\n",
              "<style scoped>\n",
              "    .dataframe tbody tr th:only-of-type {\n",
              "        vertical-align: middle;\n",
              "    }\n",
              "\n",
              "    .dataframe tbody tr th {\n",
              "        vertical-align: top;\n",
              "    }\n",
              "\n",
              "    .dataframe thead th {\n",
              "        text-align: right;\n",
              "    }\n",
              "</style>\n",
              "<table border=\"1\" class=\"dataframe\">\n",
              "  <thead>\n",
              "    <tr style=\"text-align: right;\">\n",
              "      <th></th>\n",
              "      <th>two_years_r</th>\n",
              "      <th>binary_decile_score</th>\n",
              "    </tr>\n",
              "    <tr>\n",
              "      <th>race</th>\n",
              "      <th></th>\n",
              "      <th></th>\n",
              "    </tr>\n",
              "  </thead>\n",
              "  <tbody>\n",
              "    <tr>\n",
              "      <th>African-American</th>\n",
              "      <td>0.316881</td>\n",
              "      <td>0.599370</td>\n",
              "    </tr>\n",
              "    <tr>\n",
              "      <th>Caucasian</th>\n",
              "      <td>0.207533</td>\n",
              "      <td>0.343198</td>\n",
              "    </tr>\n",
              "    <tr>\n",
              "      <th>Hispanic</th>\n",
              "      <td>0.219403</td>\n",
              "      <td>0.295522</td>\n",
              "    </tr>\n",
              "    <tr>\n",
              "      <th>Other</th>\n",
              "      <td>0.178082</td>\n",
              "      <td>0.223744</td>\n",
              "    </tr>\n",
              "    <tr>\n",
              "      <th>Asian</th>\n",
              "      <td>0.162791</td>\n",
              "      <td>0.302326</td>\n",
              "    </tr>\n",
              "    <tr>\n",
              "      <th>Native American</th>\n",
              "      <td>0.055556</td>\n",
              "      <td>0.166667</td>\n",
              "    </tr>\n",
              "  </tbody>\n",
              "</table>\n",
              "</div>\n",
              "    <div class=\"colab-df-buttons\">\n",
              "\n",
              "  <div class=\"colab-df-container\">\n",
              "    <button class=\"colab-df-convert\" onclick=\"convertToInteractive('df-e3afd358-0226-4982-8666-43a2da89ffef')\"\n",
              "            title=\"Convert this dataframe to an interactive table.\"\n",
              "            style=\"display:none;\">\n",
              "\n",
              "  <svg xmlns=\"http://www.w3.org/2000/svg\" height=\"24px\" viewBox=\"0 -960 960 960\">\n",
              "    <path d=\"M120-120v-720h720v720H120Zm60-500h600v-160H180v160Zm220 220h160v-160H400v160Zm0 220h160v-160H400v160ZM180-400h160v-160H180v160Zm440 0h160v-160H620v160ZM180-180h160v-160H180v160Zm440 0h160v-160H620v160Z\"/>\n",
              "  </svg>\n",
              "    </button>\n",
              "\n",
              "  <style>\n",
              "    .colab-df-container {\n",
              "      display:flex;\n",
              "      gap: 12px;\n",
              "    }\n",
              "\n",
              "    .colab-df-convert {\n",
              "      background-color: #E8F0FE;\n",
              "      border: none;\n",
              "      border-radius: 50%;\n",
              "      cursor: pointer;\n",
              "      display: none;\n",
              "      fill: #1967D2;\n",
              "      height: 32px;\n",
              "      padding: 0 0 0 0;\n",
              "      width: 32px;\n",
              "    }\n",
              "\n",
              "    .colab-df-convert:hover {\n",
              "      background-color: #E2EBFA;\n",
              "      box-shadow: 0px 1px 2px rgba(60, 64, 67, 0.3), 0px 1px 3px 1px rgba(60, 64, 67, 0.15);\n",
              "      fill: #174EA6;\n",
              "    }\n",
              "\n",
              "    .colab-df-buttons div {\n",
              "      margin-bottom: 4px;\n",
              "    }\n",
              "\n",
              "    [theme=dark] .colab-df-convert {\n",
              "      background-color: #3B4455;\n",
              "      fill: #D2E3FC;\n",
              "    }\n",
              "\n",
              "    [theme=dark] .colab-df-convert:hover {\n",
              "      background-color: #434B5C;\n",
              "      box-shadow: 0px 1px 3px 1px rgba(0, 0, 0, 0.15);\n",
              "      filter: drop-shadow(0px 1px 2px rgba(0, 0, 0, 0.3));\n",
              "      fill: #FFFFFF;\n",
              "    }\n",
              "  </style>\n",
              "\n",
              "    <script>\n",
              "      const buttonEl =\n",
              "        document.querySelector('#df-e3afd358-0226-4982-8666-43a2da89ffef button.colab-df-convert');\n",
              "      buttonEl.style.display =\n",
              "        google.colab.kernel.accessAllowed ? 'block' : 'none';\n",
              "\n",
              "      async function convertToInteractive(key) {\n",
              "        const element = document.querySelector('#df-e3afd358-0226-4982-8666-43a2da89ffef');\n",
              "        const dataTable =\n",
              "          await google.colab.kernel.invokeFunction('convertToInteractive',\n",
              "                                                    [key], {});\n",
              "        if (!dataTable) return;\n",
              "\n",
              "        const docLinkHtml = 'Like what you see? Visit the ' +\n",
              "          '<a target=\"_blank\" href=https://colab.research.google.com/notebooks/data_table.ipynb>data table notebook</a>'\n",
              "          + ' to learn more about interactive tables.';\n",
              "        element.innerHTML = '';\n",
              "        dataTable['output_type'] = 'display_data';\n",
              "        await google.colab.output.renderOutput(dataTable, element);\n",
              "        const docLink = document.createElement('div');\n",
              "        docLink.innerHTML = docLinkHtml;\n",
              "        element.appendChild(docLink);\n",
              "      }\n",
              "    </script>\n",
              "  </div>\n",
              "\n",
              "\n",
              "<div id=\"df-a879ecb7-215e-4520-a334-e703daa162de\">\n",
              "  <button class=\"colab-df-quickchart\" onclick=\"quickchart('df-a879ecb7-215e-4520-a334-e703daa162de')\"\n",
              "            title=\"Suggest charts\"\n",
              "            style=\"display:none;\">\n",
              "\n",
              "<svg xmlns=\"http://www.w3.org/2000/svg\" height=\"24px\"viewBox=\"0 0 24 24\"\n",
              "     width=\"24px\">\n",
              "    <g>\n",
              "        <path d=\"M19 3H5c-1.1 0-2 .9-2 2v14c0 1.1.9 2 2 2h14c1.1 0 2-.9 2-2V5c0-1.1-.9-2-2-2zM9 17H7v-7h2v7zm4 0h-2V7h2v10zm4 0h-2v-4h2v4z\"/>\n",
              "    </g>\n",
              "</svg>\n",
              "  </button>\n",
              "\n",
              "<style>\n",
              "  .colab-df-quickchart {\n",
              "      --bg-color: #E8F0FE;\n",
              "      --fill-color: #1967D2;\n",
              "      --hover-bg-color: #E2EBFA;\n",
              "      --hover-fill-color: #174EA6;\n",
              "      --disabled-fill-color: #AAA;\n",
              "      --disabled-bg-color: #DDD;\n",
              "  }\n",
              "\n",
              "  [theme=dark] .colab-df-quickchart {\n",
              "      --bg-color: #3B4455;\n",
              "      --fill-color: #D2E3FC;\n",
              "      --hover-bg-color: #434B5C;\n",
              "      --hover-fill-color: #FFFFFF;\n",
              "      --disabled-bg-color: #3B4455;\n",
              "      --disabled-fill-color: #666;\n",
              "  }\n",
              "\n",
              "  .colab-df-quickchart {\n",
              "    background-color: var(--bg-color);\n",
              "    border: none;\n",
              "    border-radius: 50%;\n",
              "    cursor: pointer;\n",
              "    display: none;\n",
              "    fill: var(--fill-color);\n",
              "    height: 32px;\n",
              "    padding: 0;\n",
              "    width: 32px;\n",
              "  }\n",
              "\n",
              "  .colab-df-quickchart:hover {\n",
              "    background-color: var(--hover-bg-color);\n",
              "    box-shadow: 0 1px 2px rgba(60, 64, 67, 0.3), 0 1px 3px 1px rgba(60, 64, 67, 0.15);\n",
              "    fill: var(--button-hover-fill-color);\n",
              "  }\n",
              "\n",
              "  .colab-df-quickchart-complete:disabled,\n",
              "  .colab-df-quickchart-complete:disabled:hover {\n",
              "    background-color: var(--disabled-bg-color);\n",
              "    fill: var(--disabled-fill-color);\n",
              "    box-shadow: none;\n",
              "  }\n",
              "\n",
              "  .colab-df-spinner {\n",
              "    border: 2px solid var(--fill-color);\n",
              "    border-color: transparent;\n",
              "    border-bottom-color: var(--fill-color);\n",
              "    animation:\n",
              "      spin 1s steps(1) infinite;\n",
              "  }\n",
              "\n",
              "  @keyframes spin {\n",
              "    0% {\n",
              "      border-color: transparent;\n",
              "      border-bottom-color: var(--fill-color);\n",
              "      border-left-color: var(--fill-color);\n",
              "    }\n",
              "    20% {\n",
              "      border-color: transparent;\n",
              "      border-left-color: var(--fill-color);\n",
              "      border-top-color: var(--fill-color);\n",
              "    }\n",
              "    30% {\n",
              "      border-color: transparent;\n",
              "      border-left-color: var(--fill-color);\n",
              "      border-top-color: var(--fill-color);\n",
              "      border-right-color: var(--fill-color);\n",
              "    }\n",
              "    40% {\n",
              "      border-color: transparent;\n",
              "      border-right-color: var(--fill-color);\n",
              "      border-top-color: var(--fill-color);\n",
              "    }\n",
              "    60% {\n",
              "      border-color: transparent;\n",
              "      border-right-color: var(--fill-color);\n",
              "    }\n",
              "    80% {\n",
              "      border-color: transparent;\n",
              "      border-right-color: var(--fill-color);\n",
              "      border-bottom-color: var(--fill-color);\n",
              "    }\n",
              "    90% {\n",
              "      border-color: transparent;\n",
              "      border-bottom-color: var(--fill-color);\n",
              "    }\n",
              "  }\n",
              "</style>\n",
              "\n",
              "  <script>\n",
              "    async function quickchart(key) {\n",
              "      const quickchartButtonEl =\n",
              "        document.querySelector('#' + key + ' button');\n",
              "      quickchartButtonEl.disabled = true;  // To prevent multiple clicks.\n",
              "      quickchartButtonEl.classList.add('colab-df-spinner');\n",
              "      try {\n",
              "        const charts = await google.colab.kernel.invokeFunction(\n",
              "            'suggestCharts', [key], {});\n",
              "      } catch (error) {\n",
              "        console.error('Error during call to suggestCharts:', error);\n",
              "      }\n",
              "      quickchartButtonEl.classList.remove('colab-df-spinner');\n",
              "      quickchartButtonEl.classList.add('colab-df-quickchart-complete');\n",
              "    }\n",
              "    (() => {\n",
              "      let quickchartButtonEl =\n",
              "        document.querySelector('#df-a879ecb7-215e-4520-a334-e703daa162de button');\n",
              "      quickchartButtonEl.style.display =\n",
              "        google.colab.kernel.accessAllowed ? 'block' : 'none';\n",
              "    })();\n",
              "  </script>\n",
              "</div>\n",
              "\n",
              "    </div>\n",
              "  </div>\n"
            ],
            "application/vnd.google.colaboratory.intrinsic+json": {
              "type": "dataframe",
              "summary": "{\n  \"name\": \"                                    \\\"binary_decile_score\\\":\\\"mean\\\"})\",\n  \"rows\": 6,\n  \"fields\": [\n    {\n      \"column\": \"race\",\n      \"properties\": {\n        \"dtype\": \"category\",\n        \"num_unique_values\": 6,\n        \"samples\": [\n          \"African-American\",\n          \"Caucasian\",\n          \"Native American\"\n        ],\n        \"semantic_type\": \"\",\n        \"description\": \"\"\n      }\n    },\n    {\n      \"column\": \"two_years_r\",\n      \"properties\": {\n        \"dtype\": \"number\",\n        \"std\": 0.08512157784608751,\n        \"min\": 0.05555555555555555,\n        \"max\": 0.31688107114728276,\n        \"num_unique_values\": 6,\n        \"samples\": [\n          0.31688107114728276,\n          0.207532667179093,\n          0.05555555555555555\n        ],\n        \"semantic_type\": \"\",\n        \"description\": \"\"\n      }\n    },\n    {\n      \"column\": \"binary_decile_score\",\n      \"properties\": {\n        \"dtype\": \"number\",\n        \"std\": 0.14983587703001813,\n        \"min\": 0.16666666666666666,\n        \"max\": 0.5993699133630874,\n        \"num_unique_values\": 6,\n        \"samples\": [\n          0.5993699133630874,\n          0.3431975403535742,\n          0.16666666666666666\n        ],\n        \"semantic_type\": \"\",\n        \"description\": \"\"\n      }\n    }\n  ]\n}"
            }
          },
          "metadata": {},
          "execution_count": 156
        }
      ],
      "execution_count": 156
    },
    {
      "cell_type": "code",
      "source": [
        "accuracy_race = df_final_c.groupby(\"race\")[\"recid_comparison_column\"].mean().reset_index()\n",
        "ax= sns.barplot(data=accuracy_race,x=\"race\",y=\"recid_comparison_column\",color=\"powderblue\")\n",
        "plt.title(\"Percentage of Accuracy of Compas by Breed\")\n",
        "plt.xticks(rotation=45)\n",
        "plt.xlabel(\"\")\n",
        "plt.ylabel(\"\")\n",
        "for num,text in zip(range(6),round(accuracy_race[\"recid_comparison_column\"],2)):\n",
        "    ax.text(num,text-0.05,text)"
      ],
      "metadata": {
        "execution": {
          "iopub.status.busy": "2022-02-10T17:43:59.773689Z",
          "iopub.execute_input": "2022-02-10T17:43:59.774249Z",
          "iopub.status.idle": "2022-02-10T17:44:00.133918Z",
          "shell.execute_reply.started": "2022-02-10T17:43:59.774216Z",
          "shell.execute_reply": "2022-02-10T17:44:00.133211Z"
        },
        "trusted": true,
        "colab": {
          "base_uri": "https://localhost:8080/",
          "height": 531
        },
        "id": "ijwaF-i0eFn6",
        "outputId": "9ca31b15-2a33-4912-a0e1-a83f5fb02713"
      },
      "outputs": [
        {
          "output_type": "display_data",
          "data": {
            "text/plain": [
              "<Figure size 640x480 with 1 Axes>"
            ],
            "image/png": "[encoded data removed]"
          },
          "metadata": {
            "image/png": {
              "width": 552,
              "height": 514
            }
          }
        }
      ],
      "execution_count": 157
    },
    {
      "cell_type": "markdown",
      "source": [
        "By sex we can see that males are more recidivists than females, both for Compas and in reality. In terms of accuracy there is no difference between the two (65%).\n"
      ],
      "metadata": {
        "id": "ZSMuugm0eFn6"
      }
    },
    {
      "cell_type": "markdown",
      "source": [
        "# Machine Learning Implementation\n",
        "\n",
        "\n",
        "*   Balance Data\n",
        "*   Apply Feature Blindness\n",
        "*   Create Train/Validation Splits\n",
        "*   Create Models\n",
        "*   Compare Results\n",
        "\n",
        "\n",
        "\n"
      ],
      "metadata": {
        "id": "kFvLt3hXq5ZT"
      }
    },
    {
      "cell_type": "markdown",
      "source": [
        "## Balance Data by Race and Sex"
      ],
      "metadata": {
        "id": "4E8knK0UvnRy"
      }
    },
    {
      "cell_type": "code",
      "source": [
        "df_final.info()"
      ],
      "metadata": {
        "colab": {
          "base_uri": "https://localhost:8080/"
        },
        "id": "thm9K_yPAKBG",
        "outputId": "361d1e38-edba-4c81-9dc9-1b061b1e61bf"
      },
      "execution_count": 158,
      "outputs": [
        {
          "output_type": "stream",
          "name": "stdout",
          "text": [
            "<class 'pandas.core.frame.DataFrame'>\n",
            "Index: 11085 entries, 0 to 18315\n",
            "Data columns (total 22 columns):\n",
            " #   Column                   Non-Null Count  Dtype         \n",
            "---  ------                   --------------  -----         \n",
            " 0   id                       6590 non-null   float64       \n",
            " 1   compas_screening_date    11085 non-null  datetime64[ns]\n",
            " 2   c_offense_date           11085 non-null  datetime64[ns]\n",
            " 3   sex                      11085 non-null  category      \n",
            " 4   age                      11085 non-null  int64         \n",
            " 5   age_cat                  11085 non-null  category      \n",
            " 6   race                     11085 non-null  category      \n",
            " 7   c_charge_degree          11085 non-null  category      \n",
            " 8   c_charge_desc            11077 non-null  object        \n",
            " 9   days_b_screening_arrest  11085 non-null  float64       \n",
            " 10  decile_score             11085 non-null  int64         \n",
            " 11  is_recid                 11085 non-null  int64         \n",
            " 12  r_offense_date           2139 non-null   datetime64[ns]\n",
            " 13  c_case_number            11085 non-null  object        \n",
            " 14  v_decile_score           11085 non-null  int64         \n",
            " 15  is_violent_recid         11085 non-null  int64         \n",
            " 16  vr_offense_date          342 non-null    datetime64[ns]\n",
            " 17  score_text               11085 non-null  category      \n",
            " 18  days                     342 non-null    float64       \n",
            " 19  two                      11085 non-null  int64         \n",
            " 20  two_years_r              11085 non-null  int64         \n",
            " 21  two_years_v              11085 non-null  int64         \n",
            "dtypes: category(5), datetime64[ns](4), float64(3), int64(8), object(2)\n",
            "memory usage: 1.6+ MB\n"
          ]
        }
      ]
    },
    {
      "cell_type": "code",
      "source": [
        "# Drop some of the unncessary columns from the dataframe\n",
        "df_final = df_final.drop(columns = ['age_cat','compas_screening_date','c_offense_date','r_offense_date','vr_offense_date','is_violent_recid'])"
      ],
      "metadata": {
        "id": "CWsKxNS95n7I"
      },
      "execution_count": 159,
      "outputs": []
    },
    {
      "cell_type": "code",
      "source": [
        "df_final.info()"
      ],
      "metadata": {
        "colab": {
          "base_uri": "https://localhost:8080/"
        },
        "id": "BKlqhHlw58DE",
        "outputId": "e9e55861-58ce-4f56-d8ff-b5493e94b352"
      },
      "execution_count": 160,
      "outputs": [
        {
          "output_type": "stream",
          "name": "stdout",
          "text": [
            "<class 'pandas.core.frame.DataFrame'>\n",
            "Index: 11085 entries, 0 to 18315\n",
            "Data columns (total 16 columns):\n",
            " #   Column                   Non-Null Count  Dtype   \n",
            "---  ------                   --------------  -----   \n",
            " 0   id                       6590 non-null   float64 \n",
            " 1   sex                      11085 non-null  category\n",
            " 2   age                      11085 non-null  int64   \n",
            " 3   race                     11085 non-null  category\n",
            " 4   c_charge_degree          11085 non-null  category\n",
            " 5   c_charge_desc            11077 non-null  object  \n",
            " 6   days_b_screening_arrest  11085 non-null  float64 \n",
            " 7   decile_score             11085 non-null  int64   \n",
            " 8   is_recid                 11085 non-null  int64   \n",
            " 9   c_case_number            11085 non-null  object  \n",
            " 10  v_decile_score           11085 non-null  int64   \n",
            " 11  score_text               11085 non-null  category\n",
            " 12  days                     342 non-null    float64 \n",
            " 13  two                      11085 non-null  int64   \n",
            " 14  two_years_r              11085 non-null  int64   \n",
            " 15  two_years_v              11085 non-null  int64   \n",
            "dtypes: category(4), float64(3), int64(7), object(2)\n",
            "memory usage: 1.1+ MB\n"
          ]
        }
      ]
    },
    {
      "cell_type": "code",
      "source": [
        "# Look at the balance of race\n",
        "df_final['race'].value_counts()"
      ],
      "metadata": {
        "colab": {
          "base_uri": "https://localhost:8080/",
          "height": 304
        },
        "id": "IWZChNmpsvr3",
        "outputId": "3d039dca-57fb-4cd1-cbee-87139696be90"
      },
      "execution_count": 161,
      "outputs": [
        {
          "output_type": "execute_result",
          "data": {
            "text/plain": [
              "race\n",
              "African-American    5890\n",
              "Caucasian           3664\n",
              "Hispanic             835\n",
              "Other                626\n",
              "Asian                 47\n",
              "Native American       23\n",
              "Name: count, dtype: int64"
            ],
            "text/html": [
              "<div>\n",
              "<style scoped>\n",
              "    .dataframe tbody tr th:only-of-type {\n",
              "        vertical-align: middle;\n",
              "    }\n",
              "\n",
              "    .dataframe tbody tr th {\n",
              "        vertical-align: top;\n",
              "    }\n",
              "\n",
              "    .dataframe thead th {\n",
              "        text-align: right;\n",
              "    }\n",
              "</style>\n",
              "<table border=\"1\" class=\"dataframe\">\n",
              "  <thead>\n",
              "    <tr style=\"text-align: right;\">\n",
              "      <th></th>\n",
              "      <th>count</th>\n",
              "    </tr>\n",
              "    <tr>\n",
              "      <th>race</th>\n",
              "      <th></th>\n",
              "    </tr>\n",
              "  </thead>\n",
              "  <tbody>\n",
              "    <tr>\n",
              "      <th>African-American</th>\n",
              "      <td>5890</td>\n",
              "    </tr>\n",
              "    <tr>\n",
              "      <th>Caucasian</th>\n",
              "      <td>3664</td>\n",
              "    </tr>\n",
              "    <tr>\n",
              "      <th>Hispanic</th>\n",
              "      <td>835</td>\n",
              "    </tr>\n",
              "    <tr>\n",
              "      <th>Other</th>\n",
              "      <td>626</td>\n",
              "    </tr>\n",
              "    <tr>\n",
              "      <th>Asian</th>\n",
              "      <td>47</td>\n",
              "    </tr>\n",
              "    <tr>\n",
              "      <th>Native American</th>\n",
              "      <td>23</td>\n",
              "    </tr>\n",
              "  </tbody>\n",
              "</table>\n",
              "</div><br><label><b>dtype:</b> int64</label>"
            ]
          },
          "metadata": {},
          "execution_count": 161
        }
      ]
    },
    {
      "cell_type": "code",
      "source": [
        "# Since the data is not balanced, we will balance it for race values of African-American and Caucasion\n",
        "\n",
        "class_aa = df_final.query(\"race == 'African-American'\").sample(n=3664,random_state=47)\n",
        "class_caucasian = df_final.query(\"race == 'Caucasian'\")\n",
        "balanced_train = pd.concat([class_aa,class_caucasian], axis=0)\n",
        "balanced_train['race'].value_counts()"
      ],
      "metadata": {
        "colab": {
          "base_uri": "https://localhost:8080/",
          "height": 304
        },
        "id": "cu7kdbSgsF5y",
        "outputId": "161f2211-40cc-4be7-cc69-a3fbfa5fbe92"
      },
      "execution_count": 162,
      "outputs": [
        {
          "output_type": "execute_result",
          "data": {
            "text/plain": [
              "race\n",
              "African-American    3664\n",
              "Caucasian           3664\n",
              "Hispanic               0\n",
              "Other                  0\n",
              "Asian                  0\n",
              "Native American        0\n",
              "Name: count, dtype: int64"
            ],
            "text/html": [
              "<div>\n",
              "<style scoped>\n",
              "    .dataframe tbody tr th:only-of-type {\n",
              "        vertical-align: middle;\n",
              "    }\n",
              "\n",
              "    .dataframe tbody tr th {\n",
              "        vertical-align: top;\n",
              "    }\n",
              "\n",
              "    .dataframe thead th {\n",
              "        text-align: right;\n",
              "    }\n",
              "</style>\n",
              "<table border=\"1\" class=\"dataframe\">\n",
              "  <thead>\n",
              "    <tr style=\"text-align: right;\">\n",
              "      <th></th>\n",
              "      <th>count</th>\n",
              "    </tr>\n",
              "    <tr>\n",
              "      <th>race</th>\n",
              "      <th></th>\n",
              "    </tr>\n",
              "  </thead>\n",
              "  <tbody>\n",
              "    <tr>\n",
              "      <th>African-American</th>\n",
              "      <td>3664</td>\n",
              "    </tr>\n",
              "    <tr>\n",
              "      <th>Caucasian</th>\n",
              "      <td>3664</td>\n",
              "    </tr>\n",
              "    <tr>\n",
              "      <th>Hispanic</th>\n",
              "      <td>0</td>\n",
              "    </tr>\n",
              "    <tr>\n",
              "      <th>Other</th>\n",
              "      <td>0</td>\n",
              "    </tr>\n",
              "    <tr>\n",
              "      <th>Asian</th>\n",
              "      <td>0</td>\n",
              "    </tr>\n",
              "    <tr>\n",
              "      <th>Native American</th>\n",
              "      <td>0</td>\n",
              "    </tr>\n",
              "  </tbody>\n",
              "</table>\n",
              "</div><br><label><b>dtype:</b> int64</label>"
            ]
          },
          "metadata": {},
          "execution_count": 162
        }
      ]
    },
    {
      "cell_type": "code",
      "source": [
        "# Look at the balance of race\n",
        "balanced_train['sex'].value_counts()"
      ],
      "metadata": {
        "colab": {
          "base_uri": "https://localhost:8080/",
          "height": 178
        },
        "id": "RRBQ3crpuyJb",
        "outputId": "1a155157-6841-492c-fca5-4b4a610fb10c"
      },
      "execution_count": 163,
      "outputs": [
        {
          "output_type": "execute_result",
          "data": {
            "text/plain": [
              "sex\n",
              "Male      5837\n",
              "Female    1491\n",
              "Name: count, dtype: int64"
            ],
            "text/html": [
              "<div>\n",
              "<style scoped>\n",
              "    .dataframe tbody tr th:only-of-type {\n",
              "        vertical-align: middle;\n",
              "    }\n",
              "\n",
              "    .dataframe tbody tr th {\n",
              "        vertical-align: top;\n",
              "    }\n",
              "\n",
              "    .dataframe thead th {\n",
              "        text-align: right;\n",
              "    }\n",
              "</style>\n",
              "<table border=\"1\" class=\"dataframe\">\n",
              "  <thead>\n",
              "    <tr style=\"text-align: right;\">\n",
              "      <th></th>\n",
              "      <th>count</th>\n",
              "    </tr>\n",
              "    <tr>\n",
              "      <th>sex</th>\n",
              "      <th></th>\n",
              "    </tr>\n",
              "  </thead>\n",
              "  <tbody>\n",
              "    <tr>\n",
              "      <th>Male</th>\n",
              "      <td>5837</td>\n",
              "    </tr>\n",
              "    <tr>\n",
              "      <th>Female</th>\n",
              "      <td>1491</td>\n",
              "    </tr>\n",
              "  </tbody>\n",
              "</table>\n",
              "</div><br><label><b>dtype:</b> int64</label>"
            ]
          },
          "metadata": {},
          "execution_count": 163
        }
      ]
    },
    {
      "cell_type": "code",
      "source": [
        "# Since the data is not balanced, we will balance it for race values of male and female\n",
        "\n",
        "class_m = balanced_train.query(\"sex == 'Male'\").sample(n=1491,random_state=47)\n",
        "class_f = balanced_train.query(\"sex == 'Female'\")\n",
        "final_balanced_train = pd.concat([class_m,class_f], axis=0)\n",
        "final_balanced_train.info()"
      ],
      "metadata": {
        "colab": {
          "base_uri": "https://localhost:8080/"
        },
        "id": "qwRBmEXju3pN",
        "outputId": "3e61f660-f83a-473a-eee2-e905118b669b"
      },
      "execution_count": 164,
      "outputs": [
        {
          "output_type": "stream",
          "name": "stdout",
          "text": [
            "<class 'pandas.core.frame.DataFrame'>\n",
            "Index: 2982 entries, 3513 to 18303\n",
            "Data columns (total 16 columns):\n",
            " #   Column                   Non-Null Count  Dtype   \n",
            "---  ------                   --------------  -----   \n",
            " 0   id                       1737 non-null   float64 \n",
            " 1   sex                      2982 non-null   category\n",
            " 2   age                      2982 non-null   int64   \n",
            " 3   race                     2982 non-null   category\n",
            " 4   c_charge_degree          2982 non-null   category\n",
            " 5   c_charge_desc            2979 non-null   object  \n",
            " 6   days_b_screening_arrest  2982 non-null   float64 \n",
            " 7   decile_score             2982 non-null   int64   \n",
            " 8   is_recid                 2982 non-null   int64   \n",
            " 9   c_case_number            2982 non-null   object  \n",
            " 10  v_decile_score           2982 non-null   int64   \n",
            " 11  score_text               2982 non-null   category\n",
            " 12  days                     82 non-null     float64 \n",
            " 13  two                      2982 non-null   int64   \n",
            " 14  two_years_r              2982 non-null   int64   \n",
            " 15  two_years_v              2982 non-null   int64   \n",
            "dtypes: category(4), float64(3), int64(7), object(2)\n",
            "memory usage: 315.6+ KB\n"
          ]
        }
      ]
    },
    {
      "cell_type": "markdown",
      "source": [
        "## Feature Blindness for Race & Sex"
      ],
      "metadata": {
        "id": "uCGbRcg5v5YY"
      }
    },
    {
      "cell_type": "code",
      "source": [
        "# Remove Race, Sex, Race and Sex Features\n",
        "df_final_noR = df_final.drop(columns=['race'])\n",
        "df_final_noS = df_final.drop(columns=['sex'])\n",
        "df_final_noRS = df_final.drop(columns=['race','sex'])"
      ],
      "metadata": {
        "id": "SIIB9e6nvwd4"
      },
      "execution_count": 165,
      "outputs": []
    },
    {
      "cell_type": "markdown",
      "source": [
        "## Create Train/Test Splits\n"
      ],
      "metadata": {
        "id": "yaOFfaOZwtlI"
      }
    },
    {
      "cell_type": "code",
      "source": [
        "from sklearn.model_selection import train_test_split\n",
        "\n",
        "# For the balanced data\n",
        "X_balanced = final_balanced_train.drop(columns = ['is_recid'])\n",
        "y_balanced = final_balanced_train['is_recid']\n",
        "X_balanced_train, X_balanced_test, y_balanced_train, y_balanced_test = train_test_split(X_balanced, y_balanced, test_size=0.2, stratify=y_balanced, random_state=42)\n",
        "\n",
        "# For the race blinded data\n",
        "X_noR = df_final_noR.drop(columns = ['is_recid'])\n",
        "y_noR = df_final_noR['is_recid']\n",
        "X_noR_train, X_noR_test, y_noR_train, y_noR_test = train_test_split(X_noR, y_noR, test_size=0.2, stratify=y_noR, random_state=42)\n",
        "\n",
        "# For the sex blinded data\n",
        "X_noS = df_final_noS.drop(columns = ['is_recid'])\n",
        "y_noS = df_final_noS['is_recid']\n",
        "X_noS_train, X_noS_test, y_noS_train, y_noS_test = train_test_split(X_noS, y_noS, test_size=0.2, stratify=y_noS, random_state=42)\n",
        "\n",
        "# For the race & sex blinded data\n",
        "X_noRS = df_final_noRS.drop(columns = ['is_recid'])\n",
        "y_noRS = df_final_noRS['is_recid']\n",
        "X_noRS_train, X_noRS_test, y_noRS_train, y_noRS_test = train_test_split(X_noRS, y_noRS, test_size=0.2, stratify=y_noRS, random_state=42)"
      ],
      "metadata": {
        "id": "ixge6xEExnut"
      },
      "execution_count": 166,
      "outputs": []
    },
    {
      "cell_type": "code",
      "source": [
        "X_balanced_train.info()"
      ],
      "metadata": {
        "colab": {
          "base_uri": "https://localhost:8080/"
        },
        "id": "sxeZ5s9qDItx",
        "outputId": "0206eb01-f75b-41a4-d73c-7080e19d75dd"
      },
      "execution_count": 167,
      "outputs": [
        {
          "output_type": "stream",
          "name": "stdout",
          "text": [
            "<class 'pandas.core.frame.DataFrame'>\n",
            "Index: 2385 entries, 368 to 10373\n",
            "Data columns (total 15 columns):\n",
            " #   Column                   Non-Null Count  Dtype   \n",
            "---  ------                   --------------  -----   \n",
            " 0   id                       1420 non-null   float64 \n",
            " 1   sex                      2385 non-null   category\n",
            " 2   age                      2385 non-null   int64   \n",
            " 3   race                     2385 non-null   category\n",
            " 4   c_charge_degree          2385 non-null   category\n",
            " 5   c_charge_desc            2383 non-null   object  \n",
            " 6   days_b_screening_arrest  2385 non-null   float64 \n",
            " 7   decile_score             2385 non-null   int64   \n",
            " 8   c_case_number            2385 non-null   object  \n",
            " 9   v_decile_score           2385 non-null   int64   \n",
            " 10  score_text               2385 non-null   category\n",
            " 11  days                     62 non-null     float64 \n",
            " 12  two                      2385 non-null   int64   \n",
            " 13  two_years_r              2385 non-null   int64   \n",
            " 14  two_years_v              2385 non-null   int64   \n",
            "dtypes: category(4), float64(3), int64(6), object(2)\n",
            "memory usage: 234.0+ KB\n"
          ]
        }
      ]
    },
    {
      "cell_type": "code",
      "source": [
        "X_noR_train.info()"
      ],
      "metadata": {
        "colab": {
          "base_uri": "https://localhost:8080/"
        },
        "id": "f74gfXfpFAc5",
        "outputId": "0500476a-c240-4739-f891-90ca6d00e80b"
      },
      "execution_count": 168,
      "outputs": [
        {
          "output_type": "stream",
          "name": "stdout",
          "text": [
            "<class 'pandas.core.frame.DataFrame'>\n",
            "Index: 8868 entries, 7503 to 4776\n",
            "Data columns (total 14 columns):\n",
            " #   Column                   Non-Null Count  Dtype   \n",
            "---  ------                   --------------  -----   \n",
            " 0   id                       5291 non-null   float64 \n",
            " 1   sex                      8868 non-null   category\n",
            " 2   age                      8868 non-null   int64   \n",
            " 3   c_charge_degree          8868 non-null   category\n",
            " 4   c_charge_desc            8860 non-null   object  \n",
            " 5   days_b_screening_arrest  8868 non-null   float64 \n",
            " 6   decile_score             8868 non-null   int64   \n",
            " 7   c_case_number            8868 non-null   object  \n",
            " 8   v_decile_score           8868 non-null   int64   \n",
            " 9   score_text               8868 non-null   category\n",
            " 10  days                     261 non-null    float64 \n",
            " 11  two                      8868 non-null   int64   \n",
            " 12  two_years_r              8868 non-null   int64   \n",
            " 13  two_years_v              8868 non-null   int64   \n",
            "dtypes: category(3), float64(3), int64(6), object(2)\n",
            "memory usage: 858.2+ KB\n"
          ]
        }
      ]
    },
    {
      "cell_type": "code",
      "source": [
        "# Convert categorical data to dummy variables\n",
        "X_balanced_train = pd.get_dummies(X_balanced_train[['sex','race','c_charge_degree','score_text']],drop_first=True)\n",
        "X_balanced_test = pd.get_dummies(X_balanced_test[['sex','race','c_charge_degree','score_text']],drop_first=True)\n",
        "\n",
        "X_noR_train = pd.get_dummies(X_noR_train[['sex','c_charge_degree','score_text']],drop_first=True)\n",
        "X_noR_test = pd.get_dummies(X_noR_test[['sex','c_charge_degree','score_text']],drop_first=True)\n",
        "\n",
        "X_noS_train = pd.get_dummies(X_noS_train[['race','c_charge_degree','score_text']],drop_first=True)\n",
        "X_noS_test = pd.get_dummies(X_noS_test[['race','c_charge_degree','score_text']],drop_first=True)\n",
        "\n",
        "X_noRS_train = pd.get_dummies(X_noRS_train[['c_charge_degree','score_text']],drop_first=True)\n",
        "X_noRS_test = pd.get_dummies(X_noRS_test[['c_charge_degree','score_text']],drop_first=True)\n"
      ],
      "metadata": {
        "id": "7H6AcF13EJ0N"
      },
      "execution_count": 169,
      "outputs": []
    },
    {
      "cell_type": "markdown",
      "source": [
        "## Create Models"
      ],
      "metadata": {
        "id": "iSwBSk4Rzfsw"
      }
    },
    {
      "cell_type": "code",
      "source": [
        "from sklearn.ensemble import RandomForestClassifier\n",
        "from sklearn.tree import DecisionTreeClassifier\n",
        "\n",
        "rf_model_balanced = RandomForestClassifier(random_state=0).fit(X_balanced_train, y_balanced_train)\n",
        "rf_model_noR = RandomForestClassifier(random_state=0).fit(X_noR_train, y_noR_train)\n",
        "rf_model_noS = RandomForestClassifier(random_state=0).fit(X_noS_train, y_noS_train)\n",
        "rf_model_noRS = RandomForestClassifier(random_state=0).fit(X_noRS_train, y_noRS_train)\n",
        "\n",
        "rfmodels = [rf_model_balanced, rf_model_noR, rf_model_noS, rf_model_noRS]\n",
        "rfmodels_names = [\"rf_model_balanced\", \"rf_model_noR\", \"rf_model_noS\", \"rf_model_noRS\"]\n",
        "rfX_tests = [X_balanced_test,X_noR_test,X_noS_test,X_noRS_test]\n",
        "rfy_tests = [y_balanced_test,y_noR_test,y_noS_test,y_noRS_test]\n",
        "\n",
        "dt_model_balanced = DecisionTreeClassifier(random_state=0).fit(X_balanced_train, y_balanced_train)\n",
        "dt_model_noR = DecisionTreeClassifier(random_state=0).fit(X_noR_train, y_noR_train)\n",
        "dt_model_noS = DecisionTreeClassifier(random_state=0).fit(X_noS_train, y_noS_train)\n",
        "dt_model_noRS = DecisionTreeClassifier(random_state=0).fit(X_noRS_train, y_noRS_train)\n",
        "\n",
        "dtmodels = [dt_model_balanced, dt_model_noR, dt_model_noS, dt_model_noRS]\n",
        "dtmodels_names = [\"dt_model_balanced\", \"dt_model_noR\", \"dt_model_noS\", \"dt_model_noRS\"]\n",
        "dtX_tests = [X_balanced_test,X_noR_test,X_noS_test,X_noRS_test]\n",
        "dty_tests = [y_balanced_test,y_noR_test,y_noS_test,y_noRS_test]"
      ],
      "metadata": {
        "id": "oDt8bzNszjd3"
      },
      "execution_count": 170,
      "outputs": []
    },
    {
      "cell_type": "markdown",
      "source": [
        "## Evaluate the Models"
      ],
      "metadata": {
        "id": "Dgd-Ca0B3FSw"
      }
    },
    {
      "cell_type": "code",
      "source": [
        "from sklearn.metrics import accuracy_score,roc_auc_score,precision_score,f1_score\n",
        "\n",
        "predictions = []\n",
        "for i in range(len(rfmodels)):\n",
        "  y_pred = rfmodels[i].predict(rfX_tests[i])\n",
        "  acc = accuracy_score(rfy_tests[i], y_pred)\n",
        "  roc = roc_auc_score(rfy_tests[i], y_pred)\n",
        "  precision = precision_score(rfy_tests[i], y_pred)\n",
        "  f1 = f1_score(rfy_tests[i], y_pred)\n",
        "\n",
        "  print(f'For Model {rfmodels_names[i]}, Accuracy: {acc:.3f}, f1-score: {f1:.3f}, ROC_AUC: {roc:.3f}, Precision: {precision:.3f}')"
      ],
      "metadata": {
        "colab": {
          "base_uri": "https://localhost:8080/"
        },
        "id": "WRDeWslq2YRA",
        "outputId": "7f6a4927-e8bb-482c-a76f-d395683276ce"
      },
      "execution_count": 171,
      "outputs": [
        {
          "output_type": "stream",
          "name": "stdout",
          "text": [
            "For Model rf_model_balanced, Accuracy: 0.638, f1-score: 0.563, ROC_AUC: 0.630, Precision: 0.647\n",
            "For Model rf_model_noR, Accuracy: 0.635, f1-score: 0.625, ROC_AUC: 0.635, Precision: 0.636\n",
            "For Model rf_model_noS, Accuracy: 0.636, f1-score: 0.641, ROC_AUC: 0.637, Precision: 0.627\n",
            "For Model rf_model_noRS, Accuracy: 0.631, f1-score: 0.636, ROC_AUC: 0.631, Precision: 0.621\n"
          ]
        }
      ]
    },
    {
      "cell_type": "code",
      "source": [
        "predictions = []\n",
        "for i in range(len(dtmodels)):\n",
        "  y_pred = dtmodels[i].predict(dtX_tests[i])\n",
        "  acc = accuracy_score(dty_tests[i], y_pred)\n",
        "  roc = roc_auc_score(dty_tests[i], y_pred)\n",
        "  precision = precision_score(dty_tests[i], y_pred)\n",
        "  f1 = f1_score(dty_tests[i], y_pred)\n",
        "\n",
        "  print(f'For Model {dtmodels_names[i]}, Accuracy: {acc:.3f}, f1-score: {f1:.3f}, ROC_AUC: {roc:.3f}, Precision: {precision:.3f}')"
      ],
      "metadata": {
        "colab": {
          "base_uri": "https://localhost:8080/"
        },
        "id": "q-M9EtCoRtm-",
        "outputId": "d2223b36-fd3f-4f90-aa97-55231ad1f510"
      },
      "execution_count": 172,
      "outputs": [
        {
          "output_type": "stream",
          "name": "stdout",
          "text": [
            "For Model dt_model_balanced, Accuracy: 0.640, f1-score: 0.559, ROC_AUC: 0.631, Precision: 0.654\n",
            "For Model dt_model_noR, Accuracy: 0.635, f1-score: 0.625, ROC_AUC: 0.635, Precision: 0.636\n",
            "For Model dt_model_noS, Accuracy: 0.638, f1-score: 0.642, ROC_AUC: 0.638, Precision: 0.629\n",
            "For Model dt_model_noRS, Accuracy: 0.631, f1-score: 0.636, ROC_AUC: 0.631, Precision: 0.621\n"
          ]
        }
      ]
    },
    {
      "cell_type": "markdown",
      "source": [
        "# SUMMARY\n",
        "\n",
        "* The input dataset is unbalanced since one of the races predominates over the others, this can lead to biases in the preditions.\n",
        "* We have cleaned and filtered the dataset to get homogeneous data.\n",
        "* We have created a feature, which we will use to predict (two_year_r), which assures us that is has been a repeat offender within two years after the Compas report.\n",
        "* We have balanced the data using undersampling to balance the number of rows by both race and sex.\n",
        "* We have divided the data by applying feature blindness on race, sex, and both\n",
        "* We have generated train/test splits using the different data blinded subsets\n",
        "* We have trained models using the different feature blinded data\n",
        "* We have generated results through"
      ],
      "metadata": {
        "id": "c4N-iAz3eFn7"
      }
    }
  ]
}